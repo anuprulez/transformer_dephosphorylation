{
 "cells": [
  {
   "cell_type": "code",
   "execution_count": 206,
   "id": "5be52319-a98a-40c1-99b6-71b2f5d65a5c",
   "metadata": {
    "tags": []
   },
   "outputs": [],
   "source": [
    "import pandas as pd\n",
    "import numpy as np"
   ]
  },
  {
   "cell_type": "code",
   "execution_count": 207,
   "id": "5569a00e-9df9-42c6-b8b0-bf620af43d56",
   "metadata": {
    "tags": []
   },
   "outputs": [
    {
     "data": {
      "text/html": [
       "<div>\n",
       "<style scoped>\n",
       "    .dataframe tbody tr th:only-of-type {\n",
       "        vertical-align: middle;\n",
       "    }\n",
       "\n",
       "    .dataframe tbody tr th {\n",
       "        vertical-align: top;\n",
       "    }\n",
       "\n",
       "    .dataframe thead th {\n",
       "        text-align: right;\n",
       "    }\n",
       "</style>\n",
       "<table border=\"1\" class=\"dataframe\">\n",
       "  <thead>\n",
       "    <tr style=\"text-align: right;\">\n",
       "      <th></th>\n",
       "      <th>acc</th>\n",
       "      <th>sequence</th>\n",
       "      <th>position</th>\n",
       "      <th>code</th>\n",
       "      <th>pmids</th>\n",
       "      <th>kinases</th>\n",
       "      <th>source</th>\n",
       "      <th>species</th>\n",
       "      <th>entry_date</th>\n",
       "    </tr>\n",
       "  </thead>\n",
       "  <tbody>\n",
       "    <tr>\n",
       "      <th>0</th>\n",
       "      <td>O08539</td>\n",
       "      <td>MAEMGSKGVTAGKIASNVQKKLTRAQEKVLQKLGKADETKDEQFEQ...</td>\n",
       "      <td>304</td>\n",
       "      <td>S</td>\n",
       "      <td>17114649</td>\n",
       "      <td>NaN</td>\n",
       "      <td>HTP</td>\n",
       "      <td>Mus musculus</td>\n",
       "      <td>2005-03-14 12:16:11.108314+01</td>\n",
       "    </tr>\n",
       "    <tr>\n",
       "      <th>1</th>\n",
       "      <td>O08539</td>\n",
       "      <td>MAEMGSKGVTAGKIASNVQKKLTRAQEKVLQKLGKADETKDEQFEQ...</td>\n",
       "      <td>304</td>\n",
       "      <td>S</td>\n",
       "      <td>17242355</td>\n",
       "      <td>NaN</td>\n",
       "      <td>HTP</td>\n",
       "      <td>Mus musculus</td>\n",
       "      <td>2005-03-14 12:16:11.108314+01</td>\n",
       "    </tr>\n",
       "    <tr>\n",
       "      <th>2</th>\n",
       "      <td>O08539</td>\n",
       "      <td>MAEMGSKGVTAGKIASNVQKKLTRAQEKVLQKLGKADETKDEQFEQ...</td>\n",
       "      <td>304</td>\n",
       "      <td>S</td>\n",
       "      <td>15345747</td>\n",
       "      <td>NaN</td>\n",
       "      <td>HTP</td>\n",
       "      <td>Mus musculus</td>\n",
       "      <td>2005-03-14 12:16:11.108314+01</td>\n",
       "    </tr>\n",
       "    <tr>\n",
       "      <th>3</th>\n",
       "      <td>O08539</td>\n",
       "      <td>MAEMGSKGVTAGKIASNVQKKLTRAQEKVLQKLGKADETKDEQFEQ...</td>\n",
       "      <td>296</td>\n",
       "      <td>S</td>\n",
       "      <td>17114649</td>\n",
       "      <td>NaN</td>\n",
       "      <td>HTP</td>\n",
       "      <td>Mus musculus</td>\n",
       "      <td>2007-07-13 15:17:45.666219+02</td>\n",
       "    </tr>\n",
       "    <tr>\n",
       "      <th>4</th>\n",
       "      <td>O08539</td>\n",
       "      <td>MAEMGSKGVTAGKIASNVQKKLTRAQEKVLQKLGKADETKDEQFEQ...</td>\n",
       "      <td>296</td>\n",
       "      <td>S</td>\n",
       "      <td>17242355</td>\n",
       "      <td>NaN</td>\n",
       "      <td>HTP</td>\n",
       "      <td>Mus musculus</td>\n",
       "      <td>2007-07-13 15:17:45.666219+02</td>\n",
       "    </tr>\n",
       "    <tr>\n",
       "      <th>...</th>\n",
       "      <td>...</td>\n",
       "      <td>...</td>\n",
       "      <td>...</td>\n",
       "      <td>...</td>\n",
       "      <td>...</td>\n",
       "      <td>...</td>\n",
       "      <td>...</td>\n",
       "      <td>...</td>\n",
       "      <td>...</td>\n",
       "    </tr>\n",
       "    <tr>\n",
       "      <th>57385</th>\n",
       "      <td>Q9NNX1</td>\n",
       "      <td>MNGTRNWCTLVDVHPEDQAAGSVDILRLTLQGELTGDELEHIAQKA...</td>\n",
       "      <td>378</td>\n",
       "      <td>S</td>\n",
       "      <td>22067460</td>\n",
       "      <td>NaN</td>\n",
       "      <td>HTP</td>\n",
       "      <td>Homo sapiens</td>\n",
       "      <td>2011-11-14 19:43:22.267702+01</td>\n",
       "    </tr>\n",
       "    <tr>\n",
       "      <th>57386</th>\n",
       "      <td>P33552</td>\n",
       "      <td>MAHKQIYYSDKYFDEHYEYRHVMLPRELSKQVPKTHLMSEEEWRRL...</td>\n",
       "      <td>51</td>\n",
       "      <td>S</td>\n",
       "      <td>22067460</td>\n",
       "      <td>NaN</td>\n",
       "      <td>HTP</td>\n",
       "      <td>Homo sapiens</td>\n",
       "      <td>2011-11-14 19:43:26.8579+01</td>\n",
       "    </tr>\n",
       "    <tr>\n",
       "      <th>57387</th>\n",
       "      <td>Q96SB8</td>\n",
       "      <td>MAKRKEENFSSPKNAKRPRQEELEDFDKDGDEDECKGTTLTAAEVG...</td>\n",
       "      <td>695</td>\n",
       "      <td>S</td>\n",
       "      <td>22067460</td>\n",
       "      <td>NaN</td>\n",
       "      <td>HTP</td>\n",
       "      <td>Homo sapiens</td>\n",
       "      <td>2011-11-14 19:43:27.603887+01</td>\n",
       "    </tr>\n",
       "    <tr>\n",
       "      <th>57388</th>\n",
       "      <td>Q96SB8</td>\n",
       "      <td>MAKRKEENFSSPKNAKRPRQEELEDFDKDGDEDECKGTTLTAAEVG...</td>\n",
       "      <td>291</td>\n",
       "      <td>S</td>\n",
       "      <td>22067460</td>\n",
       "      <td>NaN</td>\n",
       "      <td>HTP</td>\n",
       "      <td>Homo sapiens</td>\n",
       "      <td>2011-11-14 19:43:27.492959+01</td>\n",
       "    </tr>\n",
       "    <tr>\n",
       "      <th>57389</th>\n",
       "      <td>Q9UGJ1</td>\n",
       "      <td>MIHELLLALSGYPGSIFTWNKRSGLQVSQDFPFLHPSETSVLNRLC...</td>\n",
       "      <td>441</td>\n",
       "      <td>S</td>\n",
       "      <td>22067460</td>\n",
       "      <td>NaN</td>\n",
       "      <td>HTP</td>\n",
       "      <td>Homo sapiens</td>\n",
       "      <td>2011-11-14 19:43:30.010184+01</td>\n",
       "    </tr>\n",
       "  </tbody>\n",
       "</table>\n",
       "<p>57390 rows × 9 columns</p>\n",
       "</div>"
      ],
      "text/plain": [
       "          acc                                           sequence  position  \\\n",
       "0      O08539  MAEMGSKGVTAGKIASNVQKKLTRAQEKVLQKLGKADETKDEQFEQ...       304   \n",
       "1      O08539  MAEMGSKGVTAGKIASNVQKKLTRAQEKVLQKLGKADETKDEQFEQ...       304   \n",
       "2      O08539  MAEMGSKGVTAGKIASNVQKKLTRAQEKVLQKLGKADETKDEQFEQ...       304   \n",
       "3      O08539  MAEMGSKGVTAGKIASNVQKKLTRAQEKVLQKLGKADETKDEQFEQ...       296   \n",
       "4      O08539  MAEMGSKGVTAGKIASNVQKKLTRAQEKVLQKLGKADETKDEQFEQ...       296   \n",
       "...       ...                                                ...       ...   \n",
       "57385  Q9NNX1  MNGTRNWCTLVDVHPEDQAAGSVDILRLTLQGELTGDELEHIAQKA...       378   \n",
       "57386  P33552  MAHKQIYYSDKYFDEHYEYRHVMLPRELSKQVPKTHLMSEEEWRRL...        51   \n",
       "57387  Q96SB8  MAKRKEENFSSPKNAKRPRQEELEDFDKDGDEDECKGTTLTAAEVG...       695   \n",
       "57388  Q96SB8  MAKRKEENFSSPKNAKRPRQEELEDFDKDGDEDECKGTTLTAAEVG...       291   \n",
       "57389  Q9UGJ1  MIHELLLALSGYPGSIFTWNKRSGLQVSQDFPFLHPSETSVLNRLC...       441   \n",
       "\n",
       "      code     pmids kinases source       species  \\\n",
       "0        S  17114649     NaN    HTP  Mus musculus   \n",
       "1        S  17242355     NaN    HTP  Mus musculus   \n",
       "2        S  15345747     NaN    HTP  Mus musculus   \n",
       "3        S  17114649     NaN    HTP  Mus musculus   \n",
       "4        S  17242355     NaN    HTP  Mus musculus   \n",
       "...    ...       ...     ...    ...           ...   \n",
       "57385    S  22067460     NaN    HTP  Homo sapiens   \n",
       "57386    S  22067460     NaN    HTP  Homo sapiens   \n",
       "57387    S  22067460     NaN    HTP  Homo sapiens   \n",
       "57388    S  22067460     NaN    HTP  Homo sapiens   \n",
       "57389    S  22067460     NaN    HTP  Homo sapiens   \n",
       "\n",
       "                          entry_date  \n",
       "0      2005-03-14 12:16:11.108314+01  \n",
       "1      2005-03-14 12:16:11.108314+01  \n",
       "2      2005-03-14 12:16:11.108314+01  \n",
       "3      2007-07-13 15:17:45.666219+02  \n",
       "4      2007-07-13 15:17:45.666219+02  \n",
       "...                              ...  \n",
       "57385  2011-11-14 19:43:22.267702+01  \n",
       "57386    2011-11-14 19:43:26.8579+01  \n",
       "57387  2011-11-14 19:43:27.603887+01  \n",
       "57388  2011-11-14 19:43:27.492959+01  \n",
       "57389  2011-11-14 19:43:30.010184+01  \n",
       "\n",
       "[57390 rows x 9 columns]"
      ]
     },
     "execution_count": 207,
     "metadata": {},
     "output_type": "execute_result"
    }
   ],
   "source": [
    "dataframe_plm = pd.read_csv(\"../dataset/phospho.elm_dataset/phosphoELM_all_latest.dump/phosphoELM_all_2015-04.csv\", sep=\"\\t\")\n",
    "dataframe_plm"
   ]
  },
  {
   "cell_type": "code",
   "execution_count": 231,
   "id": "40174945-a4a3-48b1-8e88-9be91d7e4401",
   "metadata": {
    "tags": []
   },
   "outputs": [
    {
     "data": {
      "text/html": [
       "<div>\n",
       "<style scoped>\n",
       "    .dataframe tbody tr th:only-of-type {\n",
       "        vertical-align: middle;\n",
       "    }\n",
       "\n",
       "    .dataframe tbody tr th {\n",
       "        vertical-align: top;\n",
       "    }\n",
       "\n",
       "    .dataframe thead th {\n",
       "        text-align: right;\n",
       "    }\n",
       "</style>\n",
       "<table border=\"1\" class=\"dataframe\">\n",
       "  <thead>\n",
       "    <tr style=\"text-align: right;\">\n",
       "      <th></th>\n",
       "      <th>acc</th>\n",
       "      <th>sequence</th>\n",
       "      <th>position</th>\n",
       "      <th>code</th>\n",
       "      <th>pmids</th>\n",
       "      <th>kinases</th>\n",
       "      <th>source</th>\n",
       "      <th>species</th>\n",
       "      <th>entry_date</th>\n",
       "    </tr>\n",
       "  </thead>\n",
       "  <tbody>\n",
       "    <tr>\n",
       "      <th>0</th>\n",
       "      <td>O08539</td>\n",
       "      <td>MAEMGSKGVTAGKIASNVQKKLTRAQEKVLQKLGKADETKDEQFEQ...</td>\n",
       "      <td>304</td>\n",
       "      <td>S</td>\n",
       "      <td>17114649</td>\n",
       "      <td>NaN</td>\n",
       "      <td>HTP</td>\n",
       "      <td>Mus musculus</td>\n",
       "      <td>2005-03-14 12:16:11.108314+01</td>\n",
       "    </tr>\n",
       "    <tr>\n",
       "      <th>1</th>\n",
       "      <td>O08539</td>\n",
       "      <td>MAEMGSKGVTAGKIASNVQKKLTRAQEKVLQKLGKADETKDEQFEQ...</td>\n",
       "      <td>304</td>\n",
       "      <td>S</td>\n",
       "      <td>17242355</td>\n",
       "      <td>NaN</td>\n",
       "      <td>HTP</td>\n",
       "      <td>Mus musculus</td>\n",
       "      <td>2005-03-14 12:16:11.108314+01</td>\n",
       "    </tr>\n",
       "    <tr>\n",
       "      <th>2</th>\n",
       "      <td>O08539</td>\n",
       "      <td>MAEMGSKGVTAGKIASNVQKKLTRAQEKVLQKLGKADETKDEQFEQ...</td>\n",
       "      <td>304</td>\n",
       "      <td>S</td>\n",
       "      <td>15345747</td>\n",
       "      <td>NaN</td>\n",
       "      <td>HTP</td>\n",
       "      <td>Mus musculus</td>\n",
       "      <td>2005-03-14 12:16:11.108314+01</td>\n",
       "    </tr>\n",
       "    <tr>\n",
       "      <th>3</th>\n",
       "      <td>O08539</td>\n",
       "      <td>MAEMGSKGVTAGKIASNVQKKLTRAQEKVLQKLGKADETKDEQFEQ...</td>\n",
       "      <td>296</td>\n",
       "      <td>S</td>\n",
       "      <td>17114649</td>\n",
       "      <td>NaN</td>\n",
       "      <td>HTP</td>\n",
       "      <td>Mus musculus</td>\n",
       "      <td>2007-07-13 15:17:45.666219+02</td>\n",
       "    </tr>\n",
       "    <tr>\n",
       "      <th>4</th>\n",
       "      <td>O08539</td>\n",
       "      <td>MAEMGSKGVTAGKIASNVQKKLTRAQEKVLQKLGKADETKDEQFEQ...</td>\n",
       "      <td>296</td>\n",
       "      <td>S</td>\n",
       "      <td>17242355</td>\n",
       "      <td>NaN</td>\n",
       "      <td>HTP</td>\n",
       "      <td>Mus musculus</td>\n",
       "      <td>2007-07-13 15:17:45.666219+02</td>\n",
       "    </tr>\n",
       "    <tr>\n",
       "      <th>...</th>\n",
       "      <td>...</td>\n",
       "      <td>...</td>\n",
       "      <td>...</td>\n",
       "      <td>...</td>\n",
       "      <td>...</td>\n",
       "      <td>...</td>\n",
       "      <td>...</td>\n",
       "      <td>...</td>\n",
       "      <td>...</td>\n",
       "    </tr>\n",
       "    <tr>\n",
       "      <th>57385</th>\n",
       "      <td>Q9NNX1</td>\n",
       "      <td>MNGTRNWCTLVDVHPEDQAAGSVDILRLTLQGELTGDELEHIAQKA...</td>\n",
       "      <td>378</td>\n",
       "      <td>S</td>\n",
       "      <td>22067460</td>\n",
       "      <td>NaN</td>\n",
       "      <td>HTP</td>\n",
       "      <td>Homo sapiens</td>\n",
       "      <td>2011-11-14 19:43:22.267702+01</td>\n",
       "    </tr>\n",
       "    <tr>\n",
       "      <th>57386</th>\n",
       "      <td>P33552</td>\n",
       "      <td>MAHKQIYYSDKYFDEHYEYRHVMLPRELSKQVPKTHLMSEEEWRRL...</td>\n",
       "      <td>51</td>\n",
       "      <td>S</td>\n",
       "      <td>22067460</td>\n",
       "      <td>NaN</td>\n",
       "      <td>HTP</td>\n",
       "      <td>Homo sapiens</td>\n",
       "      <td>2011-11-14 19:43:26.8579+01</td>\n",
       "    </tr>\n",
       "    <tr>\n",
       "      <th>57387</th>\n",
       "      <td>Q96SB8</td>\n",
       "      <td>MAKRKEENFSSPKNAKRPRQEELEDFDKDGDEDECKGTTLTAAEVG...</td>\n",
       "      <td>695</td>\n",
       "      <td>S</td>\n",
       "      <td>22067460</td>\n",
       "      <td>NaN</td>\n",
       "      <td>HTP</td>\n",
       "      <td>Homo sapiens</td>\n",
       "      <td>2011-11-14 19:43:27.603887+01</td>\n",
       "    </tr>\n",
       "    <tr>\n",
       "      <th>57388</th>\n",
       "      <td>Q96SB8</td>\n",
       "      <td>MAKRKEENFSSPKNAKRPRQEELEDFDKDGDEDECKGTTLTAAEVG...</td>\n",
       "      <td>291</td>\n",
       "      <td>S</td>\n",
       "      <td>22067460</td>\n",
       "      <td>NaN</td>\n",
       "      <td>HTP</td>\n",
       "      <td>Homo sapiens</td>\n",
       "      <td>2011-11-14 19:43:27.492959+01</td>\n",
       "    </tr>\n",
       "    <tr>\n",
       "      <th>57389</th>\n",
       "      <td>Q9UGJ1</td>\n",
       "      <td>MIHELLLALSGYPGSIFTWNKRSGLQVSQDFPFLHPSETSVLNRLC...</td>\n",
       "      <td>441</td>\n",
       "      <td>S</td>\n",
       "      <td>22067460</td>\n",
       "      <td>NaN</td>\n",
       "      <td>HTP</td>\n",
       "      <td>Homo sapiens</td>\n",
       "      <td>2011-11-14 19:43:30.010184+01</td>\n",
       "    </tr>\n",
       "  </tbody>\n",
       "</table>\n",
       "<p>45183 rows × 9 columns</p>\n",
       "</div>"
      ],
      "text/plain": [
       "          acc                                           sequence  position  \\\n",
       "0      O08539  MAEMGSKGVTAGKIASNVQKKLTRAQEKVLQKLGKADETKDEQFEQ...       304   \n",
       "1      O08539  MAEMGSKGVTAGKIASNVQKKLTRAQEKVLQKLGKADETKDEQFEQ...       304   \n",
       "2      O08539  MAEMGSKGVTAGKIASNVQKKLTRAQEKVLQKLGKADETKDEQFEQ...       304   \n",
       "3      O08539  MAEMGSKGVTAGKIASNVQKKLTRAQEKVLQKLGKADETKDEQFEQ...       296   \n",
       "4      O08539  MAEMGSKGVTAGKIASNVQKKLTRAQEKVLQKLGKADETKDEQFEQ...       296   \n",
       "...       ...                                                ...       ...   \n",
       "57385  Q9NNX1  MNGTRNWCTLVDVHPEDQAAGSVDILRLTLQGELTGDELEHIAQKA...       378   \n",
       "57386  P33552  MAHKQIYYSDKYFDEHYEYRHVMLPRELSKQVPKTHLMSEEEWRRL...        51   \n",
       "57387  Q96SB8  MAKRKEENFSSPKNAKRPRQEELEDFDKDGDEDECKGTTLTAAEVG...       695   \n",
       "57388  Q96SB8  MAKRKEENFSSPKNAKRPRQEELEDFDKDGDEDECKGTTLTAAEVG...       291   \n",
       "57389  Q9UGJ1  MIHELLLALSGYPGSIFTWNKRSGLQVSQDFPFLHPSETSVLNRLC...       441   \n",
       "\n",
       "      code     pmids kinases source       species  \\\n",
       "0        S  17114649     NaN    HTP  Mus musculus   \n",
       "1        S  17242355     NaN    HTP  Mus musculus   \n",
       "2        S  15345747     NaN    HTP  Mus musculus   \n",
       "3        S  17114649     NaN    HTP  Mus musculus   \n",
       "4        S  17242355     NaN    HTP  Mus musculus   \n",
       "...    ...       ...     ...    ...           ...   \n",
       "57385    S  22067460     NaN    HTP  Homo sapiens   \n",
       "57386    S  22067460     NaN    HTP  Homo sapiens   \n",
       "57387    S  22067460     NaN    HTP  Homo sapiens   \n",
       "57388    S  22067460     NaN    HTP  Homo sapiens   \n",
       "57389    S  22067460     NaN    HTP  Homo sapiens   \n",
       "\n",
       "                          entry_date  \n",
       "0      2005-03-14 12:16:11.108314+01  \n",
       "1      2005-03-14 12:16:11.108314+01  \n",
       "2      2005-03-14 12:16:11.108314+01  \n",
       "3      2007-07-13 15:17:45.666219+02  \n",
       "4      2007-07-13 15:17:45.666219+02  \n",
       "...                              ...  \n",
       "57385  2011-11-14 19:43:22.267702+01  \n",
       "57386    2011-11-14 19:43:26.8579+01  \n",
       "57387  2011-11-14 19:43:27.603887+01  \n",
       "57388  2011-11-14 19:43:27.492959+01  \n",
       "57389  2011-11-14 19:43:30.010184+01  \n",
       "\n",
       "[45183 rows x 9 columns]"
      ]
     },
     "execution_count": 231,
     "metadata": {},
     "output_type": "execute_result"
    }
   ],
   "source": [
    "#humans = dataframe_plm[dataframe_plm[\"species\"] == \"Homo sapiens\"]\n",
    "humans = dataframe_plm[dataframe_plm[\"species\"].isin([\"Homo sapiens\", \"Mus musculus\"])]\n",
    "#df2['id'].isin(['SP.POP.TOTL','NY.GNP.PCAP.CD'])\n",
    "humans"
   ]
  },
  {
   "cell_type": "code",
   "execution_count": 232,
   "id": "20120278-0bf1-4787-abcf-a253907f9219",
   "metadata": {
    "tags": []
   },
   "outputs": [],
   "source": [
    "target_seq_len = 33\n",
    "target_left_right = 16"
   ]
  },
  {
   "cell_type": "code",
   "execution_count": 233,
   "id": "6fcc8aee-64ec-4e09-9967-e0ae50c31ce4",
   "metadata": {
    "tags": []
   },
   "outputs": [
    {
     "name": "stdout",
     "output_type": "stream",
     "text": [
      "          acc                           sequence\n",
      "0      O08539  NAPEKGNKSPSPPPDGSPAATPEIRVNHEPEPA\n",
      "1      O08539  NAPEKGNKSPSPPPDGSPAATPEIRVNHEPEPA\n",
      "2      O08539  NAPEKGNKSPSPPPDGSPAATPEIRVNHEPEPA\n",
      "3      O08539  TVKAQPSDNAPEKGNKSPSPPPDGSPAATPEIR\n",
      "4      O08539  TVKAQPSDNAPEKGNKSPSPPPDGSPAATPEIR\n",
      "...       ...                                ...\n",
      "29574  Q8NFH3  ENYISLWSIGDFGNLDSDGGFEGDHQLLCDIRH\n",
      "29575  P33552  THLMSEEEWRRLGVQQSLGWVHYMIHEPEPHIL\n",
      "29576  Q96SB8  ENTRPKFLSRDVDSEISDLENEVENKTAQILNL\n",
      "29577  Q96SB8  RQCVEKEERFQSIAGLSTMKTNLESLKHEMAWA\n",
      "29578  Q9UGJ1  HKADATQAREGPSRETSPREAPASGWAALGLSY\n",
      "\n",
      "[29579 rows x 2 columns]\n",
      "\n",
      "         acc                           sequence\n",
      "0     O08539  KGNKSPSPPPDGSPAATPEIRVNHEPEPASGAS\n",
      "1     O08605  PLPIVDSDKRRKKKRKTRATDSLPGKFEDVYQL\n",
      "2     O08605  LQHPWVQGQAPERGLPTPQVLQRNSSTMDLTLF\n",
      "3     O08605  VKLNNSCTPITTPELTTPCGSAEYMAPEVVEVF\n",
      "4     O08605  DLGSGVKLNNSCTPITTPELTTPCGSAEYMAPE\n",
      "...      ...                                ...\n",
      "6736  Q8BH74  MNSAPQKPTLLSQATFTEKVAYEHREKKYEMDH\n",
      "6737  Q8BH74  SQIIPRTPSSFRQPFVTPSSRSLLRHPDISYIL\n",
      "6738  Q8BH74  KRVLIQANQEDNFGTATPRSQIIPRTPSSFRQP\n",
      "6739  Q8BH74  EDNFGTATPRSQIIPRTPSSFRQPFVTPSSRSL\n",
      "6740  P50748  HIKAHEVAQAKHKPGSTPEPIAAEVRSPSMESK\n",
      "\n",
      "[6741 rows x 2 columns]\n"
     ]
    }
   ],
   "source": [
    "def write_fasta(dataframe, file_path):\n",
    "    dataframe = dataframe.drop_duplicates(subset=['sequence'])\n",
    "    print(\"After duplicates removal\")\n",
    "    print(dataframe)\n",
    "    data_fasta = \"\"\n",
    "    for i, row in dataframe.iterrows():\n",
    "        data_fasta += \">\" + row[\"acc\"] + \"\\n\"\n",
    "        data_fasta += row[\"sequence\"] + \"\\n\"\n",
    "    \n",
    "    with open(file_path, 'w') as f:\n",
    "        f.write(data_fasta)\n",
    "    return dataframe\n",
    "\n",
    "\n",
    "r_S_id = list()\n",
    "r_S_seq = list()\n",
    "r_T_id = list()\n",
    "r_T_seq = list()\n",
    "\n",
    "for i, row in humans.iterrows():\n",
    "    pos = int(row[\"position\"])\n",
    "    if pos > 33 and pos + target_left_right < len(row[\"sequence\"]):\n",
    "        extracted_seq = row[\"sequence\"][pos - target_left_right - 1: pos + target_left_right]\n",
    "        if row[\"code\"] == \"S\":\n",
    "            r_S_id.append(row[\"acc\"])\n",
    "            r_S_seq.append(extracted_seq)\n",
    "        if row[\"code\"] == \"T\":\n",
    "            r_T_id.append(row[\"acc\"])\n",
    "            r_T_seq.append(extracted_seq)\n",
    "        \n",
    "            \n",
    "S_dataframe = pd.DataFrame(zip(r_S_id, r_S_seq), columns=[\"acc\", \"sequence\"])\n",
    "T_dataframe = pd.DataFrame(zip(r_T_id, r_T_seq), columns=[\"acc\", \"sequence\"])\n",
    "\n",
    "print(S_dataframe)\n",
    "print()\n",
    "print(T_dataframe)"
   ]
  },
  {
   "cell_type": "code",
   "execution_count": 234,
   "id": "63febd0f-0b53-41be-ba11-8bdd220bc2d7",
   "metadata": {
    "tags": []
   },
   "outputs": [
    {
     "name": "stdout",
     "output_type": "stream",
     "text": [
      "After duplicates removal\n",
      "          acc                           sequence\n",
      "0      O08539  NAPEKGNKSPSPPPDGSPAATPEIRVNHEPEPA\n",
      "3      O08539  TVKAQPSDNAPEKGNKSPSPPPDGSPAATPEIR\n",
      "5      O08539  KAQPSDNAPEKGNKSPSPPPDGSPAATPEIRVN\n",
      "8      O08605  DSDKRRKKKRKTRATDSLPGKFEDVYQLTSELL\n",
      "9      O14746  QETSPLRDAVVIEQSSSLNEASSGLFDVFLRFM\n",
      "...       ...                                ...\n",
      "29574  Q8NFH3  ENYISLWSIGDFGNLDSDGGFEGDHQLLCDIRH\n",
      "29575  P33552  THLMSEEEWRRLGVQQSLGWVHYMIHEPEPHIL\n",
      "29576  Q96SB8  ENTRPKFLSRDVDSEISDLENEVENKTAQILNL\n",
      "29577  Q96SB8  RQCVEKEERFQSIAGLSTMKTNLESLKHEMAWA\n",
      "29578  Q9UGJ1  HKADATQAREGPSRETSPREAPASGWAALGLSY\n",
      "\n",
      "[20715 rows x 2 columns]\n"
     ]
    }
   ],
   "source": [
    "dedup_S_dataframe = write_fasta(S_dataframe, \"../dataset/phospho.elm_dataset/phosphoELM_all_latest.dump/all_pos_S.fasta\")  \n",
    "dedup_S_dataframe.to_csv(\"../dataset/phospho.elm_dataset/phosphoELM_all_latest.dump/all_pos_S.tsv\", sep=\"\\t\", index=None)"
   ]
  },
  {
   "cell_type": "code",
   "execution_count": 235,
   "id": "4744a0f1-71e3-4328-a45a-b26ddbeca1ae",
   "metadata": {
    "tags": []
   },
   "outputs": [
    {
     "name": "stdout",
     "output_type": "stream",
     "text": [
      "After duplicates removal\n",
      "         acc                           sequence\n",
      "0     O08539  KGNKSPSPPPDGSPAATPEIRVNHEPEPASGAS\n",
      "1     O08605  PLPIVDSDKRRKKKRKTRATDSLPGKFEDVYQL\n",
      "2     O08605  LQHPWVQGQAPERGLPTPQVLQRNSSTMDLTLF\n",
      "3     O08605  VKLNNSCTPITTPELTTPCGSAEYMAPEVVEVF\n",
      "4     O08605  DLGSGVKLNNSCTPITTPELTTPCGSAEYMAPE\n",
      "...      ...                                ...\n",
      "6736  Q8BH74  MNSAPQKPTLLSQATFTEKVAYEHREKKYEMDH\n",
      "6737  Q8BH74  SQIIPRTPSSFRQPFVTPSSRSLLRHPDISYIL\n",
      "6738  Q8BH74  KRVLIQANQEDNFGTATPRSQIIPRTPSSFRQP\n",
      "6739  Q8BH74  EDNFGTATPRSQIIPRTPSSFRQPFVTPSSRSL\n",
      "6740  P50748  HIKAHEVAQAKHKPGSTPEPIAAEVRSPSMESK\n",
      "\n",
      "[5078 rows x 2 columns]\n"
     ]
    }
   ],
   "source": [
    "dedup_T_dataframe = write_fasta(T_dataframe, \"../dataset/phospho.elm_dataset/phosphoELM_all_latest.dump/all_pos_T.fasta\")  \n",
    "dedup_T_dataframe.to_csv(\"../dataset/phospho.elm_dataset/phosphoELM_all_latest.dump/all_pos_T.tsv\", sep=\"\\t\", index=None)"
   ]
  },
  {
   "cell_type": "code",
   "execution_count": null,
   "id": "85df136f-f24f-4a67-aaa4-a653a570c5c2",
   "metadata": {
    "tags": []
   },
   "outputs": [],
   "source": [
    "# create negative dataset\n",
    "S_neg_id = list()\n",
    "S_neg_seq = list()\n",
    "\n",
    "T_neg_id = list()\n",
    "T_neg_seq = list()\n",
    "\n",
    "def extract_neg_seq(original_seq, s_id, pos, s_len=33):\n",
    "    r_id = list()\n",
    "    r_seq = list()\n",
    "    for p in pos:\n",
    "        if p > s_len:\n",
    "            extracted_seq = original_seq[p - target_left_right: p + target_left_right + 1]\n",
    "            if len(extracted_seq) >= s_len:\n",
    "                r_id.append(s_id)\n",
    "                r_seq.append(extracted_seq)\n",
    "    return r_id, r_seq\n",
    "                        \n",
    "\n",
    "for i, row in humans.iterrows():\n",
    "    if len(row[\"sequence\"]) > 33:\n",
    "\n",
    "        S_pos = [pos for pos, char in enumerate(row[\"sequence\"]) if char == \"S\"]\n",
    "        T_pos = [pos for pos, char in enumerate(row[\"sequence\"]) if char == \"T\"]\n",
    "        \n",
    "        if row[\"code\"] == \"S\":\n",
    "            # exclude POS position\n",
    "            S_pos = [ item for item in S_pos if item != row[\"position\"] - 1 ]\n",
    "            ids, seqs = extract_neg_seq(row[\"sequence\"], row[\"acc\"], S_pos)\n",
    "            S_neg_id.extend(ids)\n",
    "            S_neg_seq.extend(seqs)\n",
    "        if row[\"code\"] == \"T\":\n",
    "            # exclude POS position\n",
    "            T_pos = [ item for item in T_pos if item != row[\"position\"] - 1 ]\n",
    "            ids, seqs = extract_neg_seq(row[\"sequence\"], row[\"acc\"], T_pos)\n",
    "            T_neg_id.extend(ids)\n",
    "            T_neg_seq.extend(seqs)\n",
    "\n",
    "\n",
    "S_neg_dataframe = pd.DataFrame(zip(S_neg_id, S_neg_seq), columns=[\"acc\", \"sequence\"])\n",
    "T_neg_dataframe = pd.DataFrame(zip(T_neg_id, T_neg_seq), columns=[\"acc\", \"sequence\"])"
   ]
  },
  {
   "cell_type": "code",
   "execution_count": null,
   "id": "f0ed95df-909a-4534-8fc3-d6ca1ba2637c",
   "metadata": {
    "tags": []
   },
   "outputs": [],
   "source": [
    "S_neg_dataframe"
   ]
  },
  {
   "cell_type": "code",
   "execution_count": null,
   "id": "af4d8454-d017-4633-9693-45bc3b28b33c",
   "metadata": {
    "tags": []
   },
   "outputs": [],
   "source": [
    "T_neg_dataframe"
   ]
  },
  {
   "cell_type": "code",
   "execution_count": null,
   "id": "b5759628-f39c-4790-9044-321d5005fdf6",
   "metadata": {
    "tags": []
   },
   "outputs": [],
   "source": [
    "dedup_S_neg_dataframe = write_fasta(S_neg_dataframe, \"../dataset/phospho.elm_dataset/phosphoELM_all_latest.dump/all_neg_S.fasta\")  \n",
    "dedup_S_neg_dataframe.to_csv(\"../dataset/phospho.elm_dataset/phosphoELM_all_latest.dump/all_neg_S.tsv\", sep=\"\\t\", index=None)"
   ]
  },
  {
   "cell_type": "code",
   "execution_count": null,
   "id": "34480f30-bb6e-4b39-a119-17fdb4035efc",
   "metadata": {
    "tags": []
   },
   "outputs": [],
   "source": [
    "dedup_T_neg_dataframe = write_fasta(T_neg_dataframe, \"../dataset/phospho.elm_dataset/phosphoELM_all_latest.dump/all_neg_T.fasta\")  \n",
    "dedup_T_neg_dataframe.to_csv(\"../dataset/phospho.elm_dataset/phosphoELM_all_latest.dump/all_neg_T.tsv\", sep=\"\\t\", index=None)"
   ]
  },
  {
   "cell_type": "code",
   "execution_count": null,
   "id": "9cf3dc3c-c10d-43c3-b6a6-86c363a8e930",
   "metadata": {
    "tags": []
   },
   "outputs": [],
   "source": [
    "from sklearn.model_selection import train_test_split\n",
    "\n",
    "\n",
    "all_neg_S = pd.read_csv(\"../dataset/phospho.elm_dataset/phosphoELM_all_latest.dump/all_neg_S.tsv\", sep=\"\\t\")\n",
    "\n",
    "all_neg_S = all_neg_S.sample(frac=1).reset_index(drop=True)\n",
    "\n",
    "split_size = int(0.8 * len(all_neg_S.index))\n",
    "\n",
    "test_neg_S = all_neg_S[split_size:]\n",
    "train_neg_S = all_neg_S[:split_size]\n",
    "\n",
    "train_neg_S.to_csv(\"../dataset/phospho.elm_dataset/phosphoELM_all_latest.dump/train_neg_S.tsv\", sep=\"\\t\", index=None)\n",
    "test_neg_S.to_csv(\"../dataset/phospho.elm_dataset/phosphoELM_all_latest.dump/test_neg_S.tsv\", sep=\"\\t\", index=None)"
   ]
  },
  {
   "cell_type": "code",
   "execution_count": null,
   "id": "48b638bb-a005-424f-bbbb-cc69cf0f141f",
   "metadata": {
    "tags": []
   },
   "outputs": [],
   "source": [
    "all_pos_S = pd.read_csv(\"../dataset/phospho.elm_dataset/phosphoELM_all_latest.dump/all_pos_S.tsv\", sep=\"\\t\")\n",
    "\n",
    "all_pos_S = all_pos_S.sample(frac=1).reset_index(drop=True)\n",
    "\n",
    "split_size = int(0.8 * len(all_pos_S.index))\n",
    "test_pos_S = all_pos_S[split_size:]\n",
    "train_pos_S = all_pos_S[:split_size]\n",
    "\n",
    "train_pos_S.to_csv(\"../dataset/phospho.elm_dataset/phosphoELM_all_latest.dump/train_pos_S.tsv\", sep=\"\\t\", index=None)\n",
    "test_pos_S.to_csv(\"../dataset/phospho.elm_dataset/phosphoELM_all_latest.dump/test_pos_S.tsv\", sep=\"\\t\", index=None)"
   ]
  },
  {
   "cell_type": "code",
   "execution_count": null,
   "id": "5fba3ace-b195-4f27-935f-8dbd2904859e",
   "metadata": {
    "tags": []
   },
   "outputs": [],
   "source": [
    "all_neg_T = pd.read_csv(\"../dataset/phospho.elm_dataset/phosphoELM_all_latest.dump/all_neg_T.tsv\", sep=\"\\t\")\n",
    "\n",
    "all_neg_T = all_neg_T.sample(frac=1).reset_index(drop=True)\n",
    "\n",
    "split_size = int(0.8 * len(all_neg_T.index))\n",
    "\n",
    "test_neg_T = all_neg_T[split_size:]\n",
    "train_neg_T = all_neg_T[:split_size]\n",
    "\n",
    "train_neg_T.to_csv(\"../dataset/phospho.elm_dataset/phosphoELM_all_latest.dump/train_neg_T.tsv\", sep=\"\\t\", index=None)\n",
    "test_neg_T.to_csv(\"../dataset/phospho.elm_dataset/phosphoELM_all_latest.dump/test_neg_T.tsv\", sep=\"\\t\", index=None)"
   ]
  },
  {
   "cell_type": "code",
   "execution_count": null,
   "id": "1ea8c41e-5be9-4667-a9b6-03ff31f1d34d",
   "metadata": {
    "tags": []
   },
   "outputs": [],
   "source": [
    "all_pos_T = pd.read_csv(\"../dataset/phospho.elm_dataset/phosphoELM_all_latest.dump/all_pos_T.tsv\", sep=\"\\t\")\n",
    "\n",
    "all_pos_T = all_pos_T.sample(frac=1).reset_index(drop=True)\n",
    "\n",
    "split_size = int(0.8 * len(all_pos_T.index))\n",
    "train_pos_T = all_pos_T[:split_size]\n",
    "test_pos_T = all_pos_T[split_size:]\n",
    "\n",
    "train_pos_T.to_csv(\"../dataset/phospho.elm_dataset/phosphoELM_all_latest.dump/train_pos_T.tsv\", sep=\"\\t\", index=None)\n",
    "test_pos_T.to_csv(\"../dataset/phospho.elm_dataset/phosphoELM_all_latest.dump/test_pos_T.tsv\", sep=\"\\t\", index=None)"
   ]
  },
  {
   "cell_type": "code",
   "execution_count": null,
   "id": "07b789e8-60fa-4df5-bebd-9cfe28a0b0e4",
   "metadata": {},
   "outputs": [],
   "source": [
    "def write_tsv_fasta(file_path, save_to_file, max_rows=20000):\n",
    "    fasta_text = \"\"\n",
    "    dataframe = pd.read_csv(file_path, sep=\"\\t\")\n",
    "    print(dataframe)\n",
    "    for i, row in dataframe.iterrows():\n",
    "        fasta_text += \">\" + row[0] + \"\\n\"\n",
    "        fasta_text += row[1] + \"\\n\"\n",
    "        if i > max_rows:\n",
    "            break\n",
    "    with open(save_to_file, \"w\") as f:\n",
    "        f.write(fasta_text)"
   ]
  },
  {
   "cell_type": "code",
   "execution_count": null,
   "id": "44be4f26-462d-43bf-83ae-b1d02851461e",
   "metadata": {},
   "outputs": [],
   "source": [
    "write_tsv_fasta(\"../dataset/phospho.elm_dataset/phosphoELM_all_latest.dump/train_pos_S.tsv\", \n",
    "                \"../dataset/phospho.elm_dataset/phosphoELM_all_latest.dump/train_pos_S.fasta\")"
   ]
  },
  {
   "cell_type": "code",
   "execution_count": null,
   "id": "3fffb2db-4d44-4413-8943-b034dcbcb7c8",
   "metadata": {
    "tags": []
   },
   "outputs": [],
   "source": [
    "write_tsv_fasta(\"../dataset/phospho.elm_dataset/phosphoELM_all_latest.dump/train_pos_T.tsv\", \n",
    "                \"../dataset/phospho.elm_dataset/phosphoELM_all_latest.dump/train_pos_T.fasta\")"
   ]
  },
  {
   "cell_type": "code",
   "execution_count": null,
   "id": "9c7d769d-ab92-4ea5-97ec-4e80d0974e68",
   "metadata": {
    "tags": []
   },
   "outputs": [],
   "source": [
    "write_tsv_fasta(\"../dataset/phospho.elm_dataset/phosphoELM_all_latest.dump/train_neg_S.tsv\", \n",
    "                \"../dataset/phospho.elm_dataset/phosphoELM_all_latest.dump/train_neg_S.fasta\", len(train_pos_S.index))"
   ]
  },
  {
   "cell_type": "code",
   "execution_count": null,
   "id": "e325a38a-a9cc-40db-ae18-7de2cb5cdb88",
   "metadata": {
    "tags": []
   },
   "outputs": [],
   "source": [
    "write_tsv_fasta(\"../dataset/phospho.elm_dataset/phosphoELM_all_latest.dump/train_neg_T.tsv\", \n",
    "                \"../dataset/phospho.elm_dataset/phosphoELM_all_latest.dump/train_neg_T.fasta\", len(train_pos_T.index))"
   ]
  },
  {
   "cell_type": "code",
   "execution_count": null,
   "id": "056d2355-2cca-4a17-851c-acc817e298ca",
   "metadata": {
    "tags": []
   },
   "outputs": [],
   "source": [
    "write_tsv_fasta(\"../dataset/phospho.elm_dataset/phosphoELM_all_latest.dump/test_pos_S.tsv\", \n",
    "                \"../dataset/phospho.elm_dataset/phosphoELM_all_latest.dump/test_pos_S.fasta\")"
   ]
  },
  {
   "cell_type": "code",
   "execution_count": null,
   "id": "1a903f80-5e28-4647-88af-5a414acb56d2",
   "metadata": {
    "tags": []
   },
   "outputs": [],
   "source": [
    "write_tsv_fasta(\"../dataset/phospho.elm_dataset/phosphoELM_all_latest.dump/test_pos_T.tsv\", \n",
    "                \"../dataset/phospho.elm_dataset/phosphoELM_all_latest.dump/test_pos_T.fasta\")"
   ]
  },
  {
   "cell_type": "code",
   "execution_count": null,
   "id": "ffa4e07c-bf86-4eb8-8b2e-0fc0026c4fbe",
   "metadata": {
    "tags": []
   },
   "outputs": [],
   "source": [
    "write_tsv_fasta(\"../dataset/phospho.elm_dataset/phosphoELM_all_latest.dump/test_neg_S.tsv\", \n",
    "                \"../dataset/phospho.elm_dataset/phosphoELM_all_latest.dump/test_neg_S.fasta\", len(test_pos_S.index))"
   ]
  },
  {
   "cell_type": "code",
   "execution_count": null,
   "id": "58e5b485-72b6-4694-a7b4-b1389e9a54f2",
   "metadata": {
    "tags": []
   },
   "outputs": [],
   "source": [
    "write_tsv_fasta(\"../dataset/phospho.elm_dataset/phosphoELM_all_latest.dump/test_neg_T.tsv\", \n",
    "                \"../dataset/phospho.elm_dataset/phosphoELM_all_latest.dump/test_neg_T.fasta\", len(test_pos_T.index))"
   ]
  },
  {
   "cell_type": "code",
   "execution_count": null,
   "id": "83ca6a39-928f-4469-a656-498050297b0e",
   "metadata": {},
   "outputs": [],
   "source": []
  },
  {
   "cell_type": "code",
   "execution_count": null,
   "id": "89a61c19-0641-4866-ad7c-a71e3e77f1d7",
   "metadata": {},
   "outputs": [],
   "source": []
  }
 ],
 "metadata": {
  "kernelspec": {
   "display_name": "Python 3 (ipykernel)",
   "language": "python",
   "name": "python3"
  },
  "language_info": {
   "codemirror_mode": {
    "name": "ipython",
    "version": 3
   },
   "file_extension": ".py",
   "mimetype": "text/x-python",
   "name": "python",
   "nbconvert_exporter": "python",
   "pygments_lexer": "ipython3",
   "version": "3.9.7"
  }
 },
 "nbformat": 4,
 "nbformat_minor": 5
}
