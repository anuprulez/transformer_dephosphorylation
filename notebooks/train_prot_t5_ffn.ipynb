{
 "cells": [
  {
   "cell_type": "code",
   "execution_count": 251,
   "id": "11b6346a-7604-4200-82cd-98ea3511fa54",
   "metadata": {
    "tags": []
   },
   "outputs": [],
   "source": [
    "from keras.models import Model\n",
    "from keras.layers import Concatenate, Dense, LSTM, Input, concatenate\n",
    "\n",
    "import pandas as pd\n",
    "import tqdm\n",
    "import h5py\n",
    "from Bio import SeqIO\n",
    "\n",
    "import numpy as np\n",
    "from sklearn.utils import shuffle\n",
    "from sklearn.model_selection import train_test_split\n",
    "\n",
    "# import keras functions\n",
    "import tensorflow as tf\n",
    "from tensorflow.keras.models import Model, Sequential\n",
    "from tensorflow.keras.layers import Conv1D, Dense, MaxPooling1D, Input, Flatten, LSTM, Dropout, Bidirectional\n",
    "from tensorflow.keras.models import Sequential, load_model\n",
    "from tensorflow.keras.optimizers import Adam\n",
    "from tensorflow.keras.utils import plot_model\n",
    "from tensorflow.keras.losses import BinaryCrossentropy\n",
    "from tensorflow.keras.callbacks import EarlyStopping\n",
    "\n",
    "# performance matrices\n",
    "from sklearn.metrics import confusion_matrix, matthews_corrcoef, accuracy_score\n",
    "\n",
    "# plots\n",
    "import matplotlib.pyplot as plt\n",
    "\n",
    "from tensorflow import keras\n",
    "from keras.models import Sequential\n",
    "from keras.layers import Dense, Dropout, Flatten, Reshape, Lambda, LeakyReLU\n",
    "from keras.layers import Conv2D, MaxPooling2D\n",
    "from keras.callbacks import ModelCheckpoint\n",
    "import numpy as np\n",
    "from Bio import SeqIO\n",
    "from numpy import array\n",
    "from numpy import argmax\n",
    "from sklearn.model_selection import train_test_split\n",
    "from keras.layers.embeddings import Embedding\n",
    "from keras import backend as K\n",
    "from keras.backend import expand_dims\n",
    "import matplotlib.pyplot as plt\n",
    "from keras.regularizers import l1, l2"
   ]
  },
  {
   "cell_type": "code",
   "execution_count": 252,
   "id": "b30c5ed2-7b97-429e-998c-559b9057c2b3",
   "metadata": {
    "tags": []
   },
   "outputs": [],
   "source": [
    "def plot_save(history, filename):\n",
    "    # learning curves of model accuracy\n",
    "    plt.plot(history.history['accuracy'], label='train_acc')\n",
    "    plt.plot(history.history['val_accuracy'], label='val_acc')\n",
    "    plt.plot(history.history['loss'], label='train_loss')\n",
    "    plt.plot(history.history['val_loss'], label='val_loss')\n",
    "    plt.legend()\n",
    "    plt.savefig(filename)\n",
    "    plt.show()\n",
    "    \n",
    "def plot(history):\n",
    "    # learning curves of model accuracy\n",
    "    plt.plot(history.history['accuracy'], label='train_acc')\n",
    "    plt.plot(history.history['val_accuracy'], label='val_acc')\n",
    "    plt.plot(history.history['loss'], label='train_loss')\n",
    "    plt.plot(history.history['val_loss'], label='val_loss')\n",
    "    plt.legend()\n",
    "    plt.show()"
   ]
  },
  {
   "cell_type": "code",
   "execution_count": 253,
   "id": "ffbf7bb3-fb1d-4002-b2a0-e3ccb4b32ea6",
   "metadata": {
    "tags": []
   },
   "outputs": [],
   "source": [
    "def prot_t5_model():\n",
    "    # prot_t5\n",
    "    M1_input = Input(shape=(1024,))\n",
    "    M1_dense_1 = Dense(256)(M1_input)\n",
    "    drop_out = Dropout(0.4)(M1_dense_1)\n",
    "   \n",
    "    M1_dense_2 = Dense(64, activation='relu')(drop_out)\n",
    "    drop_out = Dropout(0.4)(M1_dense_2)\n",
    "    #M1_dense_2 = Dense(128, activation='relu')(drop_out)\n",
    "    #leaky_relu = LeakyReLU(alpha=0.3)(M1_dense_2)\n",
    "    #drop_out = Dropout(0.7)(leaky_relu)\n",
    "    M1_dense_3 = Dense(1, activation = 'sigmoid')(drop_out)\n",
    "    model = Model(inputs=M1_input, outputs=M1_dense_3)\n",
    "    return model"
   ]
  },
  {
   "cell_type": "code",
   "execution_count": 254,
   "id": "d2d340cb-fcf8-482f-95ab-1e698957e361",
   "metadata": {
    "tags": []
   },
   "outputs": [],
   "source": [
    "def read_h5(path):\n",
    "    hf = h5py.File(path, 'r')\n",
    "    mat = np.array(hf[\"embedding\"])\n",
    "    hf.close()\n",
    "    return mat"
   ]
  },
  {
   "cell_type": "code",
   "execution_count": 255,
   "id": "a252f659-422f-4bbf-8cfc-bb460389f377",
   "metadata": {
    "tags": []
   },
   "outputs": [],
   "source": [
    "test_positive_ST_embedding_pos = read_h5(\"../embeddings/test_positive_ST_embedding.h5\")\n",
    "test_negative_ST_embedding_pos = read_h5(\"../embeddings/test_negative_ST_embedding.h5\")"
   ]
  },
  {
   "cell_type": "code",
   "execution_count": 256,
   "id": "fa675c67-500e-4b71-9623-c9167e46667d",
   "metadata": {
    "tags": []
   },
   "outputs": [],
   "source": [
    "test_positive_ST_labels = np.ones(test_positive_ST_embedding_pos.shape[0])\n",
    "test_negative_ST_labels = np.zeros(test_negative_ST_embedding_pos.shape[0])\n",
    "\n",
    "test_ST_labels = np.concatenate((test_positive_ST_labels, test_negative_ST_labels), axis = 0)\n",
    "X_test_full_ST_embedding = np.vstack((test_positive_ST_embedding_pos, test_negative_ST_embedding_pos))"
   ]
  },
  {
   "cell_type": "code",
   "execution_count": 257,
   "id": "3458d324-54ee-4b3b-8f68-1141e7d1a167",
   "metadata": {
    "tags": []
   },
   "outputs": [],
   "source": [
    "train_positive_ST_embedding_pos = read_h5(\"../embeddings/train_positive_ST_embedding.h5\")\n",
    "train_negative_ST_embedding_pos = read_h5(\"../embeddings/train_negative_ST_embedding.h5\")"
   ]
  },
  {
   "cell_type": "code",
   "execution_count": 258,
   "id": "378bbdab-e7bb-431d-af50-fc5f1435704f",
   "metadata": {
    "tags": []
   },
   "outputs": [],
   "source": [
    "train_positive_ST_labels = np.ones(train_positive_ST_embedding_pos.shape[0])\n",
    "train_negative_ST_labels = np.zeros(train_negative_ST_embedding_pos.shape[0])\n",
    "\n",
    "train_ST_labels = np.concatenate((train_positive_ST_labels, train_negative_ST_labels), axis = 0)\n",
    "X_train_full_ST_embedding = np.vstack((train_positive_ST_embedding_pos, train_negative_ST_embedding_pos))"
   ]
  },
  {
   "cell_type": "code",
   "execution_count": 259,
   "id": "49948d7c-96b2-4ab8-b3dd-a03518a705b3",
   "metadata": {
    "tags": []
   },
   "outputs": [
    {
     "data": {
      "text/plain": [
       "((1779, 1024), (1779,), (446, 1024), (446,))"
      ]
     },
     "execution_count": 259,
     "metadata": {},
     "output_type": "execute_result"
    }
   ],
   "source": [
    "X_train_full_ST_embedding.shape, train_ST_labels.shape,  X_test_full_ST_embedding.shape, test_ST_labels.shape"
   ]
  },
  {
   "cell_type": "code",
   "execution_count": 260,
   "id": "6c650049-cfa5-4a47-88a0-4dd370fc898f",
   "metadata": {
    "tags": []
   },
   "outputs": [
    {
     "name": "stdout",
     "output_type": "stream",
     "text": [
      "(222, 33)\n",
      "(224, 33)\n",
      "(890, 33)\n",
      "(889, 33)\n"
     ]
    }
   ],
   "source": [
    "def get_input_for_embedding(fasta_file):\n",
    "    # This is returning just integers to feed to embedding layer\n",
    "    \n",
    "    encodings = []\n",
    "    \n",
    "    # define universe of possible input values\n",
    "    alphabet = 'ARNDCQEGHILKMFPSTWYV-'\n",
    "    \n",
    "    # define a mapping of chars to integers\n",
    "    char_to_int = dict((c, i) for i, c in enumerate(alphabet))\n",
    "    int_to_char = dict((i, c) for i, c in enumerate(alphabet))\n",
    "    \n",
    "    #print(char_to_int)\n",
    "    \n",
    "    for seq_record in SeqIO.parse(fasta_file, \"fasta\"):\n",
    "        data = seq_record.seq\n",
    "        try:\n",
    "            integer_encoded = [char_to_int[char] for char in data]\n",
    "        except:\n",
    "            continue\n",
    "        encodings.append(integer_encoded)\n",
    "    encodings = np.array(encodings)\n",
    "    print(encodings.shape)\n",
    "    return encodings\n",
    "\n",
    "\n",
    "# convert sequences to integer encoding, for embedding\n",
    "test_positive_ST_CNN = get_input_for_embedding('../dataset/test_Pos_ST.fasta')\n",
    "test_negative_ST_CNN = get_input_for_embedding('../dataset/test_Neg_ST.fasta')\n",
    "\n",
    "train_positive_ST_CNN = get_input_for_embedding('../dataset/train_Pos_ST.fasta')\n",
    "train_negative_ST_CNN = get_input_for_embedding('../dataset/train_Neg_ST.fasta')"
   ]
  },
  {
   "cell_type": "code",
   "execution_count": 261,
   "id": "e9660eb8-d6a0-4de9-ac99-b9c42124323c",
   "metadata": {
    "tags": []
   },
   "outputs": [
    {
     "data": {
      "text/plain": [
       "((1779, 33), (446, 33), (1779,), (446,))"
      ]
     },
     "execution_count": 261,
     "metadata": {},
     "output_type": "execute_result"
    }
   ],
   "source": [
    "X_train_CNN = np.vstack((train_positive_ST_CNN, train_negative_ST_CNN))\n",
    "X_test_CNN = np.vstack((test_positive_ST_CNN, test_negative_ST_CNN))\n",
    "X_train_CNN.shape, X_test_CNN.shape, train_ST_labels.shape, test_ST_labels.shape"
   ]
  },
  {
   "cell_type": "code",
   "execution_count": 262,
   "id": "52f4c64d-46dc-4d20-8392-54617ef6598a",
   "metadata": {
    "tags": []
   },
   "outputs": [
    {
     "data": {
      "text/plain": [
       "(array([[ 2, 18, 16, ..., 15, 14, 15],\n",
       "        [15,  7, 12, ...,  1, 16,  5],\n",
       "        [ 5, 14,  5, ..., 15, 16, 18],\n",
       "        ...,\n",
       "        [ 0, 14, 10, ..., 19, 15,  7],\n",
       "        [ 8,  0, 15, ...,  1, 10, 10],\n",
       "        [ 3,  0, 10, ...,  3, 18, 11]]),\n",
       " array([1., 1., 1., ..., 0., 0., 0.]))"
      ]
     },
     "execution_count": 262,
     "metadata": {},
     "output_type": "execute_result"
    }
   ],
   "source": [
    "X_train_CNN, train_ST_labels"
   ]
  },
  {
   "cell_type": "code",
   "execution_count": null,
   "id": "309c1f91-37bf-4b57-a0df-f84697b11685",
   "metadata": {},
   "outputs": [],
   "source": []
  },
  {
   "cell_type": "code",
   "execution_count": 271,
   "id": "8a352587-5e45-428e-9adb-5c3372cc328f",
   "metadata": {
    "tags": []
   },
   "outputs": [],
   "source": [
    "from tensorflow.keras import backend as K\n",
    "\n",
    "def CNN_model():\n",
    "    model = Sequential()\n",
    "    model.add(Embedding(128, 21, input_length=33))\n",
    "    model.add(Lambda(lambda x: tf.expand_dims(x, 3)))\n",
    "    model.add(Conv2D(32, kernel_size=(17, 3), activation = 'relu', kernel_initializer='he_normal', padding = 'VALID'))\n",
    "    model.add(Dropout(0.2))\n",
    "    model.add(MaxPooling2D(pool_size=(2, 2)))\n",
    "    model.add(Flatten())\n",
    "    model.add(Dense(16, activation='relu', kernel_initializer='he_normal'))\n",
    "    model.add(Dropout(0.2))\n",
    "    model.add(Dense(1, activation='sigmoid'))\n",
    "    return model\n",
    "\n",
    "\n",
    "#import tensorflow as tf\n",
    "from tensorflow.keras.layers import MultiHeadAttention, LayerNormalization, Layer, GlobalAveragePooling1D, Input, GlobalAveragePooling2D\n",
    "#from tensorflow.keras.layers import Dense, Embedding\n",
    "#from tensorflow.keras.models import Sequential\n",
    "\n",
    "\n",
    "class TransformerBlock(Layer):\n",
    "    def __init__(self, embed_dim, num_heads, ff_dim, rate=0.1):\n",
    "        super(TransformerBlock, self).__init__()\n",
    "        self.att = MultiHeadAttention(num_heads=num_heads, key_dim=embed_dim, dropout=rate)\n",
    "        self.ffn = Sequential(\n",
    "            [Dense(ff_dim, activation=\"relu\"), Dense(embed_dim)] #Dense(4 * ff_dim, activation=\"relu\")\n",
    "        )\n",
    "        self.layernorm1 = LayerNormalization(epsilon=1e-6)\n",
    "        self.layernorm2 = LayerNormalization(epsilon=1e-6)\n",
    "        self.dropout1 = Dropout(rate)\n",
    "        self.dropout2 = Dropout(rate)\n",
    "        \n",
    "    def get_config(self):\n",
    "        config = super().get_config()\n",
    "        return config\n",
    "\n",
    "    def call(self, inputs, training):\n",
    "        attn_output, attention_scores = self.att(inputs, inputs, inputs, return_attention_scores=True, training=training)\n",
    "        attn_output = self.dropout1(attn_output, training=training)\n",
    "        out1 = self.layernorm1(inputs + attn_output)\n",
    "        ffn_output = self.ffn(out1)\n",
    "        ffn_output = self.dropout2(ffn_output, training=training)\n",
    "        return self.layernorm2(out1 + ffn_output), attention_scores\n",
    "\n",
    "\n",
    "class TokenAndPositionEmbedding(Layer):\n",
    "    def __init__(self, maxlen, vocab_size, embed_dim):\n",
    "        super(TokenAndPositionEmbedding, self).__init__()\n",
    "        self.token_emb = Embedding(input_dim=vocab_size, output_dim=embed_dim, mask_zero=True)\n",
    "        self.pos_emb = Embedding(input_dim=maxlen, output_dim=embed_dim, mask_zero=True)\n",
    "        \n",
    "    def get_config(self):\n",
    "        config = super().get_config()\n",
    "        return config\n",
    "\n",
    "    def call(self, x):\n",
    "        maxlen = tf.shape(x)[-1]\n",
    "        positions = tf.range(start=0, limit=maxlen, delta=1)\n",
    "        positions = self.pos_emb(positions)\n",
    "        x = self.token_emb(x)\n",
    "        return x + positions\n",
    "    \n",
    "# transformer based embedding model\n",
    "def transformer_model():\n",
    "    vocab_size = 21\n",
    "    embed_dim = 32 #config[\"embedding_dim\"]\n",
    "    ff_dim = 32 #config[\"feed_forward_dim\"]\n",
    "    max_len = 33 #config[\"maximum_path_length\"]\n",
    "    dropout = 0.2 #config[\"dropout\"]\n",
    "    n_heads = 2\n",
    "\n",
    "    inputs = Input(shape=(max_len,))\n",
    "    embedding_layer = TokenAndPositionEmbedding(max_len, vocab_size, embed_dim)\n",
    "    x = embedding_layer(inputs)\n",
    "    transformer_block = TransformerBlock(embed_dim, n_heads, ff_dim)\n",
    "    x, weights = transformer_block(x)\n",
    "    x = GlobalAveragePooling1D()(x) #GlobalAveragePooling1D\n",
    "    x = Dropout(dropout)(x)\n",
    "    x = Dense(ff_dim, activation=\"relu\")(x)\n",
    "    x = Dropout(dropout)(x)\n",
    "    outputs = Dense(1, activation=\"sigmoid\")(x)\n",
    "    return Model(inputs=inputs, outputs=[outputs])"
   ]
  },
  {
   "cell_type": "code",
   "execution_count": 282,
   "id": "45b25673-b3de-4f7f-a5d1-dc39e8e74ba5",
   "metadata": {
    "tags": []
   },
   "outputs": [
    {
     "name": "stdout",
     "output_type": "stream",
     "text": [
      "(3367, 33)\n",
      "(3366, 33)\n",
      "(13465, 33)\n",
      "(13464, 33)\n",
      "(856, 33)\n",
      "(858, 33)\n",
      "(3420, 33)\n",
      "(3419, 33)\n"
     ]
    }
   ],
   "source": [
    "# Pretraining with Phosphorylation dataset\n",
    "\n",
    "# S\n",
    "pre_test_positive_S_CNN = get_input_for_embedding('../dataset/phospho.elm_dataset/phosphoELM_all_latest.dump/test_pos_S.fasta')\n",
    "pre_test_negative_S_CNN = get_input_for_embedding('../dataset/phospho.elm_dataset/phosphoELM_all_latest.dump/test_neg_S.fasta')\n",
    "\n",
    "pre_train_positive_S_CNN = get_input_for_embedding('../dataset/phospho.elm_dataset/phosphoELM_all_latest.dump/train_pos_S.fasta')\n",
    "pre_train_negative_S_CNN = get_input_for_embedding('../dataset/phospho.elm_dataset/phosphoELM_all_latest.dump/train_neg_S.fasta')\n",
    "\n",
    "# T\n",
    "pre_test_positive_T_CNN = get_input_for_embedding('../dataset/phospho.elm_dataset/phosphoELM_all_latest.dump/test_pos_T.fasta')\n",
    "pre_test_negative_T_CNN = get_input_for_embedding('../dataset/phospho.elm_dataset/phosphoELM_all_latest.dump/test_neg_T.fasta')\n",
    "\n",
    "pre_train_positive_T_CNN = get_input_for_embedding('../dataset/phospho.elm_dataset/phosphoELM_all_latest.dump/train_pos_T.fasta')\n",
    "pre_train_negative_T_CNN = get_input_for_embedding('../dataset/phospho.elm_dataset/phosphoELM_all_latest.dump/train_neg_T.fasta')\n",
    "\n",
    "\n",
    "pre_test_pos_ST_CNN = np.vstack((pre_test_positive_S_CNN, pre_test_positive_T_CNN))\n",
    "pre_test_neg_ST_CNN = np.vstack((pre_test_negative_S_CNN, pre_test_negative_T_CNN))\n",
    "\n",
    "pre_train_pos_ST_CNN = np.vstack((pre_train_positive_S_CNN, pre_train_positive_T_CNN))\n",
    "pre_train_neg_ST_CNN = np.vstack((pre_train_negative_S_CNN, pre_train_negative_T_CNN))"
   ]
  },
  {
   "cell_type": "code",
   "execution_count": 283,
   "id": "7640ecc3-97e7-4967-bac2-5be94fa2d547",
   "metadata": {
    "tags": []
   },
   "outputs": [
    {
     "data": {
      "text/plain": [
       "((4223, 33), (4224, 33), (16885, 33), (16883, 33))"
      ]
     },
     "execution_count": 283,
     "metadata": {},
     "output_type": "execute_result"
    }
   ],
   "source": [
    "pre_test_pos_ST_CNN.shape, pre_test_neg_ST_CNN.shape, pre_train_pos_ST_CNN.shape, pre_train_neg_ST_CNN.shape"
   ]
  },
  {
   "cell_type": "code",
   "execution_count": 284,
   "id": "bf682fb9-5f09-4410-8260-c4a288abaf72",
   "metadata": {
    "tags": []
   },
   "outputs": [
    {
     "data": {
      "text/plain": [
       "((8447, 33), (8447,))"
      ]
     },
     "execution_count": 284,
     "metadata": {},
     "output_type": "execute_result"
    }
   ],
   "source": [
    "pre_test_ST = np.vstack((pre_test_pos_ST_CNN, pre_test_neg_ST_CNN))\n",
    "\n",
    "pre_test_positive_ST_labels = np.ones(pre_test_pos_ST_CNN.shape[0])\n",
    "pre_test_negative_ST_labels = np.zeros(pre_test_neg_ST_CNN.shape[0])\n",
    "\n",
    "pre_test_ST_labels = np.concatenate((pre_test_positive_ST_labels, pre_test_negative_ST_labels), axis = 0)\n",
    "pre_test_ST.shape, pre_test_ST_labels.shape"
   ]
  },
  {
   "cell_type": "code",
   "execution_count": 285,
   "id": "219cc1fd-66ab-4971-b1f5-4c544075c640",
   "metadata": {
    "tags": []
   },
   "outputs": [
    {
     "data": {
      "text/plain": [
       "((33768, 33), (33768,))"
      ]
     },
     "execution_count": 285,
     "metadata": {},
     "output_type": "execute_result"
    }
   ],
   "source": [
    "pre_train_ST = np.vstack((pre_train_pos_ST_CNN, pre_train_neg_ST_CNN))\n",
    "\n",
    "pre_train_positive_ST_labels = np.ones(pre_train_pos_ST_CNN.shape[0])\n",
    "pre_train_negative_ST_labels = np.zeros(pre_train_neg_ST_CNN.shape[0])\n",
    "\n",
    "pre_train_ST_labels = np.concatenate((pre_train_positive_ST_labels, pre_train_negative_ST_labels), axis = 0)\n",
    "pre_train_ST.shape, pre_train_ST_labels.shape"
   ]
  },
  {
   "cell_type": "code",
   "execution_count": 286,
   "id": "037aec0e-822f-4d00-9511-35ca581a79bd",
   "metadata": {
    "tags": []
   },
   "outputs": [
    {
     "data": {
      "text/plain": [
       "(array([[10,  1,  8, ..., 14, 10, 16],\n",
       "        [ 0, 10,  5, ..., 10, 16,  7],\n",
       "        [ 5,  6,  6, ...,  3, 14, 10],\n",
       "        ...,\n",
       "        [16, 12, 18, ...,  2, 15, 11],\n",
       "        [ 8, 16,  7, ...,  7,  6,  1],\n",
       "        [10,  7,  0, ...,  1,  0,  0]]),\n",
       " array([1., 1., 1., ..., 0., 0., 0.]))"
      ]
     },
     "execution_count": 286,
     "metadata": {},
     "output_type": "execute_result"
    }
   ],
   "source": [
    "pre_train_ST, pre_train_ST_labels"
   ]
  },
  {
   "cell_type": "code",
   "execution_count": 287,
   "id": "567be720-07f6-479c-8ad8-df7e4b4f6986",
   "metadata": {
    "tags": []
   },
   "outputs": [
    {
     "data": {
      "text/plain": [
       "(array([[ 2, 18, 16, ..., 15, 14, 15],\n",
       "        [15,  7, 12, ...,  1, 16,  5],\n",
       "        [ 5, 14,  5, ..., 15, 16, 18],\n",
       "        ...,\n",
       "        [ 0, 14, 10, ..., 19, 15,  7],\n",
       "        [ 8,  0, 15, ...,  1, 10, 10],\n",
       "        [ 3,  0, 10, ...,  3, 18, 11]]),\n",
       " array([1., 1., 1., ..., 0., 0., 0.]))"
      ]
     },
     "execution_count": 287,
     "metadata": {},
     "output_type": "execute_result"
    }
   ],
   "source": [
    "X_train_CNN, train_ST_labels"
   ]
  },
  {
   "cell_type": "code",
   "execution_count": null,
   "id": "f568a58c-f1b3-4849-84df-d06f1373025d",
   "metadata": {
    "tags": []
   },
   "outputs": [
    {
     "name": "stdout",
     "output_type": "stream",
     "text": [
      "Model: \"sequential_49\"\n",
      "_________________________________________________________________\n",
      " Layer (type)                Output Shape              Param #   \n",
      "=================================================================\n",
      " embedding_65 (Embedding)    (None, 33, 21)            2688      \n",
      "                                                                 \n",
      " lambda_33 (Lambda)          (None, 33, 21, 1)         0         \n",
      "                                                                 \n",
      " conv2d_33 (Conv2D)          (None, 17, 19, 32)        1664      \n",
      "                                                                 \n",
      " dropout_132 (Dropout)       (None, 17, 19, 32)        0         \n",
      "                                                                 \n",
      " max_pooling2d_33 (MaxPoolin  (None, 8, 9, 32)         0         \n",
      " g2D)                                                            \n",
      "                                                                 \n",
      " flatten_33 (Flatten)        (None, 2304)              0         \n",
      "                                                                 \n",
      " dense_133 (Dense)           (None, 16)                36880     \n",
      "                                                                 \n",
      " dropout_133 (Dropout)       (None, 16)                0         \n",
      "                                                                 \n",
      " dense_134 (Dense)           (None, 1)                 17        \n",
      "                                                                 \n",
      "=================================================================\n",
      "Total params: 41,249\n",
      "Trainable params: 41,249\n",
      "Non-trainable params: 0\n",
      "_________________________________________________________________\n",
      "PRE Training CNN model...\n",
      "Epoch 1/100\n",
      "21/66 [========>.....................] - ETA: 6s - loss: 0.6920 - accuracy: 0.5185"
     ]
    }
   ],
   "source": [
    "# Pretraining models\n",
    "\n",
    "iteration = 1\n",
    "n_epo_cnn = 100\n",
    "n_epo = 10\n",
    "\n",
    "model_A = CNN_model()\n",
    "model_A.compile(optimizer=Adam(learning_rate=1e-2), loss=BinaryCrossentropy(), metrics=['accuracy'])\n",
    "\n",
    "model_A.summary()\n",
    "\n",
    "print(\"PRE Training CNN model...\")\n",
    "\n",
    "metric = 'val_accuracy'\n",
    "\n",
    "#early_stopping = tf.keras.callbacks.EarlyStopping(monitor='val_accuracy',patience=7,mode='auto')\n",
    "\n",
    "history_A = model_A.fit(pre_train_ST, pre_train_ST_labels, batch_size=512, epochs=n_epo_cnn, verbose=1,callbacks=[],\n",
    "    validation_data=(pre_test_ST, pre_test_ST_labels))\n",
    "\n",
    "# Save model\n",
    "#model_A.save('../models/cv_new/model_A_'+str(iteration)+'.h5')\n",
    "model_A.save_weights('../models/pre_model_A.h5')\n",
    "\n",
    "y_pred = model_A.predict(X_test_CNN).reshape(test_ST_labels.shape[0],)\n",
    "y_pred = (y_pred > 0.5)\n",
    "y_pred = [int(i) for i in y_pred]\n",
    "test_ST_labels = np.array(test_ST_labels)\n",
    "y_pred = np.array(y_pred)\n",
    "\n",
    "cm = confusion_matrix(test_ST_labels, y_pred)\n",
    "mcc = matthews_corrcoef(test_ST_labels, y_pred)\n",
    "acc = accuracy_score(test_ST_labels, y_pred)\n",
    "\n",
    "sn = cm[1][1]/(cm[1][1]+cm[1][0])\n",
    "sp = cm[0][0]/(cm[0][0]+cm[0][1])\n",
    "\n",
    "#save plot\n",
    "plot(history_A)\n",
    "print(\"\\n Acc: %s, MCC: %s, SN:%s, SP:%s, \\n CM:%s\" %(str(acc), str(mcc), str(sn), str(sp), cm))\n",
    "\n",
    "\n",
    "########### Model B\n",
    "\n",
    "'''print(\"Training Embedding model...\")\n",
    "\n",
    "model_B = prot_t5_model()\n",
    "model_B.compile(optimizer=Adam(learning_rate=1e-3), loss=BinaryCrossentropy(), metrics=['accuracy'])\n",
    "\n",
    "early_stopping = tf.keras.callbacks.EarlyStopping(monitor='val_accuracy',patience=3,mode='auto')\n",
    "\n",
    "metric = 'val_accuracy'\n",
    "\n",
    "history_B = model_B.fit(X_train_full_ST_embedding, train_ST_labels, batch_size=256, epochs=n_epo, verbose=1, callbacks=[], \n",
    "                        validation_data=(X_test_full_ST_embedding, test_ST_labels))\n",
    "\n",
    "model_B.save_weights('../models/model_B.h5')\n",
    "\n",
    "y_pred = model_B.predict(X_test_full_ST_embedding).reshape(test_ST_labels.shape[0],)\n",
    "y_pred = (y_pred > 0.5)\n",
    "y_pred = [int(i) for i in y_pred]\n",
    "test_ST_labels = np.array(test_ST_labels)\n",
    "y_pred = np.array(y_pred)\n",
    "\n",
    "cm = confusion_matrix(test_ST_labels, y_pred)\n",
    "mcc = matthews_corrcoef(test_ST_labels, y_pred)\n",
    "acc = accuracy_score(test_ST_labels, y_pred)\n",
    "\n",
    "sn = cm[1][1]/(cm[1][1]+cm[1][0])\n",
    "sp = cm[0][0]/(cm[0][0]+cm[0][1])\n",
    "\n",
    "plot(history_B)\n",
    "print(\"\\n Acc: %s, MCC: %s, SN:%s, SP:%s, \\n CM:%s\" %(str(acc), str(mcc), str(sn), str(sp), cm))'''\n",
    "\n",
    "############# Training Transformer\n",
    "\n",
    "\n",
    "model_C = transformer_model()\n",
    "model_C.compile(optimizer=Adam(learning_rate=1e-3),\n",
    "          loss=BinaryCrossentropy(),\n",
    "          metrics=['accuracy'])\n",
    "\n",
    "model_C.summary()\n",
    "\n",
    "print(\"PRE Training Transformer model...\")\n",
    "\n",
    "history_C = model_C.fit(pre_train_ST, pre_train_ST_labels, batch_size=256, epochs=n_epo_cnn, verbose=1,callbacks=[],\n",
    "    validation_data=(pre_test_ST, pre_test_ST_labels))\n",
    "\n",
    "# Save model\n",
    "#model_A.save('../models/cv_new/model_A_'+str(iteration)+'.h5')\n",
    "model_C.save_weights('../models/pre_model_C.h5')\n",
    "\n",
    "y_pred = model_C.predict(X_test_CNN).reshape(test_ST_labels.shape[0],)\n",
    "y_pred = (y_pred > 0.5)\n",
    "y_pred = [int(i) for i in y_pred]\n",
    "test_ST_labels = np.array(test_ST_labels)\n",
    "y_pred = np.array(y_pred)\n",
    "\n",
    "cm = confusion_matrix(test_ST_labels, y_pred)\n",
    "mcc = matthews_corrcoef(test_ST_labels, y_pred)\n",
    "acc = accuracy_score(test_ST_labels, y_pred)\n",
    "\n",
    "sn = cm[1][1]/(cm[1][1]+cm[1][0])\n",
    "sp = cm[0][0]/(cm[0][0]+cm[0][1])\n",
    "\n",
    "#save plot\n",
    "plot(history_C)\n",
    "print(\"\\n Acc: %s, MCC: %s, SN:%s, SP:%s, \\n CM:%s\" %(str(acc), str(mcc), str(sn), str(sp), cm))"
   ]
  },
  {
   "cell_type": "code",
   "execution_count": null,
   "id": "a955b64c-1738-4849-8257-c7fb24805b79",
   "metadata": {
    "tags": []
   },
   "outputs": [],
   "source": [
    "#model_A = CNN_model()\n",
    "#model_A.load_weights(\"\")\n",
    "#model_A.compile(optimizer=Adam(learning_rate=1e-3), loss=BinaryCrossentropy(), metrics=['accuracy'])\n",
    "\n",
    "#model_A.summary()\n",
    "\n",
    "#early_stopping = tf.keras.callbacks.EarlyStopping(monitor='val_accuracy',patience=7,mode='auto')\n",
    "\n",
    "#history_A = model_A.fit(X_train_CNN, train_ST_labels, batch_size=256, epochs=n_epo_cnn, verbose=1,callbacks=[], validation_data=(X_test_CNN, test_ST_labels))\n",
    "\n",
    "# Save model\n",
    "#model_A.save('../models/cv_new/model_A_'+str(iteration)+'.h5')\n",
    "#model_A.save_weights('../models/model_A.h5')\n",
    "\n",
    "y_pred = model_A.predict(X_test_CNN).reshape(test_ST_labels.shape[0],)\n",
    "y_pred = (y_pred > 0.5)\n",
    "y_pred = [int(i) for i in y_pred]\n",
    "test_ST_labels = np.array(test_ST_labels)\n",
    "y_pred = np.array(y_pred)\n",
    "\n",
    "cm = confusion_matrix(test_ST_labels, y_pred)\n",
    "mcc = matthews_corrcoef(test_ST_labels, y_pred)\n",
    "acc = accuracy_score(test_ST_labels, y_pred)\n",
    "\n",
    "sn = cm[1][1]/(cm[1][1]+cm[1][0])\n",
    "sp = cm[0][0]/(cm[0][0]+cm[0][1])\n",
    "\n",
    "#save plot\n",
    "#plot(history_A)\n",
    "print(\"\\n Acc: %s, MCC: %s, SN:%s, SP:%s, \\n CM:%s\" %(str(acc), str(mcc), str(sn), str(sp), cm))\n",
    "\n",
    "\n",
    "########### Model B\n",
    "\n",
    "'''\n",
    "y_pred = model_B.predict(X_test_full_ST_embedding).reshape(test_ST_labels.shape[0],)\n",
    "y_pred = (y_pred > 0.5)\n",
    "y_pred = [int(i) for i in y_pred]\n",
    "test_ST_labels = np.array(test_ST_labels)\n",
    "y_pred = np.array(y_pred)\n",
    "\n",
    "cm = confusion_matrix(test_ST_labels, y_pred)\n",
    "mcc = matthews_corrcoef(test_ST_labels, y_pred)\n",
    "acc = accuracy_score(test_ST_labels, y_pred)\n",
    "\n",
    "sn = cm[1][1]/(cm[1][1]+cm[1][0])\n",
    "sp = cm[0][0]/(cm[0][0]+cm[0][1])\n",
    "\n",
    "plot(history_B)\n",
    "print(\"\\n Acc: %s, MCC: %s, SN:%s, SP:%s, \\n CM:%s\" %(str(acc), str(mcc), str(sn), str(sp), cm))'''\n",
    "\n",
    "############# Training Transformer\n",
    "\n",
    "\n",
    "y_pred = model_C.predict(X_test_CNN).reshape(test_ST_labels.shape[0],)\n",
    "y_pred = (y_pred > 0.5)\n",
    "y_pred = [int(i) for i in y_pred]\n",
    "test_ST_labels = np.array(test_ST_labels)\n",
    "y_pred = np.array(y_pred)\n",
    "\n",
    "cm = confusion_matrix(test_ST_labels, y_pred)\n",
    "mcc = matthews_corrcoef(test_ST_labels, y_pred)\n",
    "acc = accuracy_score(test_ST_labels, y_pred)\n",
    "\n",
    "sn = cm[1][1]/(cm[1][1]+cm[1][0])\n",
    "sp = cm[0][0]/(cm[0][0]+cm[0][1])\n",
    "\n",
    "#save plot\n",
    "#plot(history_C)\n",
    "print(\"\\n Acc: %s, MCC: %s, SN:%s, SP:%s, \\n CM:%s\" %(str(acc), str(mcc), str(sn), str(sp), cm))"
   ]
  },
  {
   "cell_type": "code",
   "execution_count": null,
   "id": "0e8249a7-7010-41df-9bee-8249d8dca971",
   "metadata": {
    "tags": []
   },
   "outputs": [],
   "source": [
    "# Training DE-Phosphorylation\n",
    "\n",
    "iteration = 1\n",
    "n_epo_cnn = 30\n",
    "n_epo = 10\n",
    "\n",
    "#model_A = CNN_model()\n",
    "#model_A.load_weights(\"\")\n",
    "#model_A.compile(optimizer=Adam(learning_rate=1e-3), loss=BinaryCrossentropy(), metrics=['accuracy'])\n",
    "\n",
    "#model_A.summary()\n",
    "\n",
    "print(\"Training CNN model...\")\n",
    "\n",
    "metric = 'val_accuracy'\n",
    "\n",
    "#early_stopping = tf.keras.callbacks.EarlyStopping(monitor='val_accuracy',patience=7,mode='auto')\n",
    "\n",
    "history_A = model_A.fit(X_train_CNN, train_ST_labels, batch_size=256, epochs=n_epo_cnn, verbose=1,callbacks=[], validation_data=(X_test_CNN, test_ST_labels))\n",
    "\n",
    "# Save model\n",
    "model_A.save_weights('../models/model_A.h5')\n",
    "\n",
    "y_pred = model_A.predict(X_test_CNN).reshape(test_ST_labels.shape[0],)\n",
    "y_pred = (y_pred > 0.5)\n",
    "y_pred = [int(i) for i in y_pred]\n",
    "test_ST_labels = np.array(test_ST_labels)\n",
    "y_pred = np.array(y_pred)\n",
    "\n",
    "cm = confusion_matrix(test_ST_labels, y_pred)\n",
    "mcc = matthews_corrcoef(test_ST_labels, y_pred)\n",
    "acc = accuracy_score(test_ST_labels, y_pred)\n",
    "\n",
    "sn = cm[1][1]/(cm[1][1]+cm[1][0])\n",
    "sp = cm[0][0]/(cm[0][0]+cm[0][1])\n",
    "\n",
    "#save plot\n",
    "plot(history_A)\n",
    "print(\"\\n Acc: %s, MCC: %s, SN:%s, SP:%s, \\n CM:%s\" %(str(acc), str(mcc), str(sn), str(sp), cm))\n",
    "\n",
    "\n",
    "########### Model B\n",
    "\n",
    "print(\"Training Embedding model...\")\n",
    "\n",
    "model_B = prot_t5_model()\n",
    "model_B.compile(optimizer=Adam(learning_rate=1e-3), loss=BinaryCrossentropy(), metrics=['accuracy'])\n",
    "\n",
    "early_stopping = tf.keras.callbacks.EarlyStopping(monitor='val_accuracy',patience=3,mode='auto')\n",
    "\n",
    "metric = 'val_accuracy'\n",
    "\n",
    "history_B = model_B.fit(X_train_full_ST_embedding, train_ST_labels, batch_size=256, epochs=n_epo, verbose=1, callbacks=[], \n",
    "                        validation_data=(X_test_full_ST_embedding, test_ST_labels))\n",
    "\n",
    "model_B.save_weights('../models/model_B.h5')\n",
    "\n",
    "y_pred = model_B.predict(X_test_full_ST_embedding).reshape(test_ST_labels.shape[0],)\n",
    "y_pred = (y_pred > 0.5)\n",
    "y_pred = [int(i) for i in y_pred]\n",
    "test_ST_labels = np.array(test_ST_labels)\n",
    "y_pred = np.array(y_pred)\n",
    "\n",
    "cm = confusion_matrix(test_ST_labels, y_pred)\n",
    "mcc = matthews_corrcoef(test_ST_labels, y_pred)\n",
    "acc = accuracy_score(test_ST_labels, y_pred)\n",
    "\n",
    "sn = cm[1][1]/(cm[1][1]+cm[1][0])\n",
    "sp = cm[0][0]/(cm[0][0]+cm[0][1])\n",
    "\n",
    "plot(history_B)\n",
    "print(\"\\n Acc: %s, MCC: %s, SN:%s, SP:%s, \\n CM:%s\" %(str(acc), str(mcc), str(sn), str(sp), cm))\n",
    "\n",
    "############# Training Transformer\n",
    "\n",
    "\n",
    "#model_C = transformer_model()\n",
    "#model_C.compile(optimizer=Adam(learning_rate=1e-3), loss=BinaryCrossentropy(), metrics=['accuracy'])\n",
    "\n",
    "#model_C.summary()\n",
    "\n",
    "print(\"Training Transformer model...\")\n",
    "\n",
    "metric = 'val_accuracy'\n",
    "\n",
    "#early_stopping = tf.keras.callbacks.EarlyStopping(monitor='val_accuracy',patience=7,mode='auto')\n",
    "\n",
    "history_C = model_C.fit(X_train_CNN, train_ST_labels, batch_size=256, epochs=n_epo_cnn, verbose=1,callbacks=[], validation_data=(X_test_CNN, test_ST_labels))\n",
    "\n",
    "# Save model\n",
    "model_C.save_weights('../models/model_C.h5')\n",
    "\n",
    "y_pred = model_C.predict(X_test_CNN).reshape(test_ST_labels.shape[0],)\n",
    "y_pred = (y_pred > 0.5)\n",
    "y_pred = [int(i) for i in y_pred]\n",
    "test_ST_labels = np.array(test_ST_labels)\n",
    "y_pred = np.array(y_pred)\n",
    "\n",
    "cm = confusion_matrix(test_ST_labels, y_pred)\n",
    "mcc = matthews_corrcoef(test_ST_labels, y_pred)\n",
    "acc = accuracy_score(test_ST_labels, y_pred)\n",
    "\n",
    "sn = cm[1][1]/(cm[1][1]+cm[1][0])\n",
    "sp = cm[0][0]/(cm[0][0]+cm[0][1])\n",
    "\n",
    "#save plot\n",
    "plot(history_C)\n",
    "print(\"\\n Acc: %s, MCC: %s, SN:%s, SP:%s, \\n CM:%s\" %(str(acc), str(mcc), str(sn), str(sp), cm))"
   ]
  },
  {
   "cell_type": "code",
   "execution_count": 124,
   "id": "01f949e4-c1c8-4b3b-9c66-8a9462224908",
   "metadata": {
    "tags": []
   },
   "outputs": [
    {
     "name": "stdout",
     "output_type": "stream",
     "text": [
      "Loaded 2 models\n",
      "You must install pydot (`pip install pydot`) and install graphviz (see instructions at https://graphviz.gitlab.io/download/) for plot_model/model_to_dot to work.\n",
      "Model: \"model_11\"\n",
      "__________________________________________________________________________________________________\n",
      " Layer (type)                   Output Shape         Param #     Connected to                     \n",
      "==================================================================================================\n",
      " embedding_18_input (InputLayer  [(None, 33)]        0           []                               \n",
      " )                                                                                                \n",
      "                                                                                                  \n",
      " embedding_18 (Embedding)       (None, 33, 21)       2688        ['embedding_18_input[0][0]']     \n",
      "                                                                                                  \n",
      " lambda_6 (Lambda)              (None, 33, 21, 1)    0           ['embedding_18[0][0]']           \n",
      "                                                                                                  \n",
      " input_7 (InputLayer)           [(None, 33)]         0           []                               \n",
      "                                                                                                  \n",
      " conv2d_6 (Conv2D)              (None, 17, 19, 32)   1664        ['lambda_6[0][0]']               \n",
      "                                                                                                  \n",
      " token_and_position_embedding_6  (None, 33, 32)      1728        ['input_7[0][0]']                \n",
      "  (TokenAndPositionEmbedding)                                                                     \n",
      "                                                                                                  \n",
      " dropout_36 (Dropout)           (None, 17, 19, 32)   0           ['conv2d_6[0][0]']               \n",
      "                                                                                                  \n",
      " transformer_block_6 (Transform  ((None, 33, 32),    10656       ['token_and_position_embedding_6[\n",
      " erBlock)                        (None, 2, 33, 33))              0][0]']                          \n",
      "                                                                                                  \n",
      " max_pooling2d_6 (MaxPooling2D)  (None, 8, 9, 32)    0           ['dropout_36[0][0]']             \n",
      "                                                                                                  \n",
      " global_average_pooling1d_6 (Gl  (None, 32)          0           ['transformer_block_6[0][0]']    \n",
      " obalAveragePooling1D)                                                                            \n",
      "                                                                                                  \n",
      " flatten_6 (Flatten)            (None, 2304)         0           ['max_pooling2d_6[0][0]']        \n",
      "                                                                                                  \n",
      " dropout_40 (Dropout)           (None, 32)           0           ['global_average_pooling1d_6[0][0\n",
      "                                                                 ]']                              \n",
      "                                                                                                  \n",
      " dense_36 (Dense)               (None, 16)           36880       ['flatten_6[0][0]']              \n",
      "                                                                                                  \n",
      " dense_40 (Dense)               (None, 32)           1056        ['dropout_40[0][0]']             \n",
      "                                                                                                  \n",
      " dropout_37 (Dropout)           (None, 16)           0           ['dense_36[0][0]']               \n",
      "                                                                                                  \n",
      " dropout_41 (Dropout)           (None, 32)           0           ['dense_40[0][0]']               \n",
      "                                                                                                  \n",
      " dense_37 (Dense)               (None, 1)            17          ['dropout_37[0][0]']             \n",
      "                                                                                                  \n",
      " dense_41 (Dense)               (None, 1)            33          ['dropout_41[0][0]']             \n",
      "                                                                                                  \n",
      " concatenate_2 (Concatenate)    (None, 2)            0           ['dense_37[0][0]',               \n",
      "                                                                  'dense_41[0][0]']               \n",
      "                                                                                                  \n",
      " ds_1 (Dense)                   (None, 4)            12          ['concatenate_2[0][0]']          \n",
      "                                                                                                  \n",
      " ds_4 (Dense)                   (None, 1)            5           ['ds_1[0][0]']                   \n",
      "                                                                                                  \n",
      "==================================================================================================\n",
      "Total params: 54,739\n",
      "Trainable params: 17\n",
      "Non-trainable params: 54,722\n",
      "__________________________________________________________________________________________________\n",
      "Epoch 1/20\n",
      "56/56 [==============================] - 2s 13ms/step - loss: 0.5728 - accuracy: 0.5925 - val_loss: 0.6315 - val_accuracy: 0.6300\n",
      "Epoch 2/20\n",
      "56/56 [==============================] - 1s 9ms/step - loss: 0.5475 - accuracy: 0.6903 - val_loss: 0.6215 - val_accuracy: 0.6883\n",
      "Epoch 3/20\n",
      "56/56 [==============================] - 1s 13ms/step - loss: 0.5243 - accuracy: 0.7560 - val_loss: 0.6130 - val_accuracy: 0.6928\n",
      "Epoch 4/20\n",
      "56/56 [==============================] - 1s 15ms/step - loss: 0.5033 - accuracy: 0.7976 - val_loss: 0.6067 - val_accuracy: 0.6973\n",
      "Epoch 5/20\n",
      "56/56 [==============================] - 1s 15ms/step - loss: 0.4827 - accuracy: 0.8179 - val_loss: 0.6022 - val_accuracy: 0.7085\n",
      "Epoch 6/20\n",
      "56/56 [==============================] - 1s 15ms/step - loss: 0.4556 - accuracy: 0.8387 - val_loss: 0.6003 - val_accuracy: 0.7197\n",
      "Epoch 7/20\n",
      "56/56 [==============================] - 1s 15ms/step - loss: 0.4263 - accuracy: 0.8752 - val_loss: 0.5994 - val_accuracy: 0.7265\n",
      "Epoch 8/20\n",
      "56/56 [==============================] - 1s 15ms/step - loss: 0.4117 - accuracy: 0.8898 - val_loss: 0.5974 - val_accuracy: 0.7309\n",
      "Epoch 9/20\n",
      "56/56 [==============================] - 1s 17ms/step - loss: 0.3871 - accuracy: 0.9056 - val_loss: 0.5951 - val_accuracy: 0.7354\n",
      "Epoch 10/20\n",
      "56/56 [==============================] - 1s 16ms/step - loss: 0.3678 - accuracy: 0.9219 - val_loss: 0.5933 - val_accuracy: 0.7377\n",
      "Epoch 11/20\n",
      "56/56 [==============================] - 1s 16ms/step - loss: 0.3608 - accuracy: 0.9146 - val_loss: 0.5898 - val_accuracy: 0.7354\n",
      "Epoch 12/20\n",
      "56/56 [==============================] - 1s 15ms/step - loss: 0.3359 - accuracy: 0.9354 - val_loss: 0.5940 - val_accuracy: 0.7377\n",
      "Epoch 13/20\n",
      "56/56 [==============================] - 1s 14ms/step - loss: 0.3270 - accuracy: 0.9354 - val_loss: 0.5923 - val_accuracy: 0.7354\n",
      "Epoch 14/20\n",
      "56/56 [==============================] - 1s 15ms/step - loss: 0.3083 - accuracy: 0.9393 - val_loss: 0.5948 - val_accuracy: 0.7354\n",
      "Epoch 15/20\n",
      "56/56 [==============================] - 1s 15ms/step - loss: 0.3082 - accuracy: 0.9370 - val_loss: 0.5917 - val_accuracy: 0.7287\n",
      "Epoch 16/20\n",
      "56/56 [==============================] - 1s 15ms/step - loss: 0.2934 - accuracy: 0.9427 - val_loss: 0.5946 - val_accuracy: 0.7287\n",
      "Epoch 17/20\n",
      "56/56 [==============================] - 1s 15ms/step - loss: 0.2764 - accuracy: 0.9505 - val_loss: 0.5962 - val_accuracy: 0.7287\n",
      "Epoch 18/20\n",
      "56/56 [==============================] - 1s 16ms/step - loss: 0.2761 - accuracy: 0.9477 - val_loss: 0.5969 - val_accuracy: 0.7287\n",
      "Epoch 19/20\n",
      "56/56 [==============================] - 1s 15ms/step - loss: 0.2607 - accuracy: 0.9545 - val_loss: 0.6022 - val_accuracy: 0.7287\n",
      "Epoch 20/20\n",
      "56/56 [==============================] - 1s 15ms/step - loss: 0.2584 - accuracy: 0.9488 - val_loss: 0.6005 - val_accuracy: 0.7332\n"
     ]
    }
   ],
   "source": [
    "# load models from file\n",
    "def load_A_models():\n",
    "    model_A = CNN_model()\n",
    "    model_A.load_weights('../models/model_A.h5')\n",
    "    return model_A\n",
    "\n",
    "\n",
    "def load_B_models():\n",
    "    model = prot_t5_model()\n",
    "    model.load_weights('../models/model_B.h5')\n",
    "    return model\n",
    "\n",
    "def load_C_models():\n",
    "    model = transformer_model()\n",
    "    model.load_weights('../models/model_C.h5')\n",
    "    return model\n",
    "\n",
    "\n",
    "# meta learner\n",
    "def define_stacked_model(members):\n",
    "    for i in range(len(members)):\n",
    "        model = members[i]\n",
    "        for layer in model.layers:\n",
    "            layer.trainable = False\n",
    "#             layer.name = 'ensemble_' + str(i+1) + '_' + layer.name\n",
    "    ensemble_visible = [model.input for model in members]\n",
    "    ensemble_outputs = [model.output for model in members]\n",
    "    #print(ensemble_visible)\n",
    "    #print(ensemble_outputs)\n",
    "    merge = concatenate(ensemble_outputs)\n",
    "    hidden = Dense(4, activation='relu', name = 'ds_1')(merge)\n",
    "#     hidden = Dropout(0.4, name = 'dp_1')(hidden)\n",
    "#     hidden = Dense(4, activation='relu', name = 'ds_2')(hidden)\n",
    "\n",
    "#     hidden = Dense(4, activation='relu', name = 'ds_3')(hidden)\n",
    "#     hidden = Reshape((1,4))(hidden)X_train_embedding_full\n",
    "#     hidden = Bidirectional(LSTM(32))(hidden)\n",
    "#     hidden = Dropout(0.4, name = 'dp_2')(hidden)\n",
    "    output = Dense(1, activation='sigmoid', name = 'ds_4')(hidden)\n",
    "    model = Model(inputs=ensemble_visible, outputs=output)\n",
    "    plot_model(model, show_shapes=True, to_file='ensemble_graph.png')\n",
    "    model.compile(loss='binary_crossentropy', optimizer='adam', metrics=['accuracy'])\n",
    "    model.summary()\n",
    "    return model\n",
    "\n",
    "\n",
    "# fit a model\n",
    "def fit_stacked_model(model, inputX, inputy):\n",
    "    X = [inputX for _ in range(len(model.input))]\n",
    "    inputy_enc = to_categorical(inputy)\n",
    "    model.fit(X, inputy_enc, epochs=10, verbose=1)   \n",
    "\n",
    "\n",
    "# prediction\n",
    "def predict_stacked_model(model, inputX):\n",
    "    X = [inputX for _ in range(len(model.input))]\n",
    "    return model.predict(X, verbose=0)\n",
    "\n",
    "\n",
    "# load all models\n",
    "members = list()\n",
    "model_A = load_A_models()\n",
    "model_B = load_B_models()\n",
    "model_C = load_C_models()\n",
    "members.append(model_A)\n",
    "members.append(model_B)\n",
    "members.append(model_C)\n",
    "\n",
    "n_epo_stacked = 20\n",
    "\n",
    "\n",
    "#members = load_all_models(['model_A_1', 'model_B_1'])\n",
    "print('Loaded %d models' % len(members))\n",
    "stacked_model = define_stacked_model(members)\n",
    "#print(X_train_embedding_full.shape, X_train_pt5_full.shape)\n",
    "# fit_stacked_model(stacked_model, x_test, y_test)\n",
    "#st_history = stacked_model.fit([X_train_embedding_full, X_train_embedding_full, X_train_embedding_full, X_train_embedding_full, X_train_embedding_full, X_train_pt5_full, X_train_pt5_full, X_train_pt5_full, X_train_pt5_full, X_train_pt5_full],y_train, epochs=10, verbose=1)\n",
    "st_history = stacked_model.fit([X_train_CNN, X_train_full_ST_embedding, X_train_CNN], train_ST_labels, epochs=n_epo_stacked, \n",
    "                               verbose=1, validation_data=([X_test_CNN, X_train_full_ST_embedding, X_test_CNN], test_ST_labels))\n",
    "\n",
    "stacked_model.save_weights(\"../models/composite_model.h5\")"
   ]
  },
  {
   "cell_type": "code",
   "execution_count": 89,
   "id": "fc82462c-5213-4f4c-9f6b-fa8a6746634a",
   "metadata": {
    "tags": []
   },
   "outputs": [
    {
     "data": {
      "image/png": "[encoded data removed]",
      "text/plain": [
       "<Figure size 640x480 with 1 Axes>"
      ]
     },
     "metadata": {},
     "output_type": "display_data"
    },
    {
     "name": "stdout",
     "output_type": "stream",
     "text": [
      "\n",
      " Acc: 0.7511210762331838, MCC: 0.522730001342031, SN:0.8873873873873874, SP:0.6160714285714286, \n",
      " CM:[[138  86]\n",
      " [ 25 197]]\n"
     ]
    }
   ],
   "source": [
    "y_pred = stacked_model.predict([X_test_CNN, X_test_CNN]).reshape(test_ST_labels.shape[0],)\n",
    "y_pred = (y_pred > 0.5)\n",
    "y_pred = [int(i) for i in y_pred]\n",
    "test_ST_labels = np.array(test_ST_labels)\n",
    "y_pred = np.array(y_pred)\n",
    "\n",
    "cm = confusion_matrix(test_ST_labels, y_pred)\n",
    "mcc = matthews_corrcoef(test_ST_labels, y_pred)\n",
    "acc = accuracy_score(test_ST_labels, y_pred)\n",
    "\n",
    "sn = cm[1][1]/(cm[1][1]+cm[1][0])\n",
    "sp = cm[0][0]/(cm[0][0]+cm[0][1])\n",
    "\n",
    "plot(st_history)\n",
    "print(\"\\n Acc: %s, MCC: %s, SN:%s, SP:%s, \\n CM:%s\" %(str(acc), str(mcc), str(sn), str(sp), cm))"
   ]
  },
  {
   "cell_type": "code",
   "execution_count": 90,
   "id": "699ccbca-3ecd-4f03-9bd7-38b4fe71839d",
   "metadata": {
    "tags": []
   },
   "outputs": [
    {
     "name": "stdout",
     "output_type": "stream",
     "text": [
      "[<keras.engine.input_layer.InputLayer object at 0x7f979248ad00>, <keras.layers.embeddings.Embedding object at 0x7f979248adf0>, <keras.layers.core.lambda_layer.Lambda object at 0x7f9722aeb5e0>, <keras.engine.input_layer.InputLayer object at 0x7f97aaa8b490>, <keras.layers.convolutional.Conv2D object at 0x7f972082a160>, <__main__.TokenAndPositionEmbedding object at 0x7f972061d940>, <keras.layers.core.dropout.Dropout object at 0x7f9780511400>, <__main__.TransformerBlock object at 0x7f97237d6f10>, <keras.layers.pooling.MaxPooling2D object at 0x7f9722dd5e50>, <keras.layers.pooling.GlobalAveragePooling1D object at 0x7f979141dcd0>, <keras.layers.core.flatten.Flatten object at 0x7f972110d7f0>, <keras.layers.core.dropout.Dropout object at 0x7f97802d5190>, <keras.layers.core.dense.Dense object at 0x7f9780511250>, <keras.layers.core.dense.Dense object at 0x7f97210e3970>, <keras.layers.core.dropout.Dropout object at 0x7f97218296d0>, <keras.layers.core.dropout.Dropout object at 0x7f972120ac70>, <keras.layers.core.dense.Dense object at 0x7f9723045f10>, <keras.layers.core.dense.Dense object at 0x7f97217a1790>, <keras.layers.merge.Concatenate object at 0x7f9721191400>, <keras.layers.core.dense.Dense object at 0x7f972129b400>, <keras.layers.core.dense.Dense object at 0x7f9722d261c0>] 21\n",
      "(446, 4)\n"
     ]
    }
   ],
   "source": [
    "# load pretrained model\n",
    "from tensorflow.keras.models import Sequential, load_model, Model\n",
    "from sklearn.manifold import TSNE\n",
    "import pandas as pd\n",
    "import seaborn as sns\n",
    "import h5py\n",
    "\n",
    "#ANN_model = load_model(\"../models/composite_model.h5\")\n",
    "\n",
    "print(stacked_model.layers, len(stacked_model.layers))\n",
    "\n",
    "# create truncated model\n",
    "truncated_ANN_model = Model(inputs=stacked_model.input,\n",
    "                                 outputs=stacked_model.get_layer(index=19).output)\n",
    "\n",
    "hidden_features = truncated_ANN_model.predict([X_test_CNN, X_test_CNN])\n",
    "\n",
    "print(hidden_features.shape)\n",
    "\n",
    "df = pd.DataFrame()\n",
    "df['Target'] = test_ST_labels"
   ]
  },
  {
   "cell_type": "code",
   "execution_count": 91,
   "id": "99ef6237-6230-4c7b-8857-0f122fe4d39d",
   "metadata": {
    "tags": []
   },
   "outputs": [
    {
     "name": "stderr",
     "output_type": "stream",
     "text": [
      "/home/anupkumar/anaconda3/envs/succsite/lib/python3.9/site-packages/sklearn/manifold/_t_sne.py:780: FutureWarning: The default initialization in TSNE will change from 'random' to 'pca' in 1.2.\n",
      "  warnings.warn(\n"
     ]
    },
    {
     "data": {
      "image/png": "[encoded data removed]",
      "text/plain": [
       "<Figure size 640x480 with 1 Axes>"
      ]
     },
     "metadata": {},
     "output_type": "display_data"
    }
   ],
   "source": [
    "m = TSNE(learning_rate = 2, perplexity = 15) #learning_rate = 10, perplexity=30\n",
    "tsne_features = m.fit_transform(hidden_features)\n",
    "df['Dimension-1'] = tsne_features[:,0]\n",
    "df['Dimension-2'] = tsne_features[:,1]\n",
    "\n",
    "sns.scatterplot(x=\"Dimension-1\", y=\"Dimension-2\", hue='Target',data=df)\n",
    "plt.tick_params(top=False,\n",
    "               bottom=False,\n",
    "               left=False,\n",
    "               right=False,\n",
    "               labelleft=False,\n",
    "               labelbottom=False)\n",
    "\n",
    "# plt.axis('off')\n",
    "# plt.set_xlabel('Subplot 1')\n",
    "plt.legend().set_visible(False)\n",
    "filename = \"TSNE_ANN_protT5.png\"\n",
    "plt.savefig(filename,dpi=1600,bbox_inches='tight')\n",
    "plt.show()"
   ]
  },
  {
   "cell_type": "code",
   "execution_count": null,
   "id": "37db6e36-5150-4249-8b98-04df6634c98d",
   "metadata": {
    "tags": []
   },
   "outputs": [],
   "source": []
  },
  {
   "cell_type": "code",
   "execution_count": 92,
   "id": "db90f5e9-9279-4b47-85bc-772da02d750a",
   "metadata": {
    "tags": []
   },
   "outputs": [
    {
     "data": {
      "text/plain": [
       "[Text(0.5, 1.0, 'UMAP projection')]"
      ]
     },
     "execution_count": 92,
     "metadata": {},
     "output_type": "execute_result"
    },
    {
     "data": {
      "image/png": "[encoded data removed]",
      "text/plain": [
       "<Figure size 1200x1200 with 1 Axes>"
      ]
     },
     "metadata": {},
     "output_type": "display_data"
    }
   ],
   "source": [
    "from umap import UMAP\n",
    "from matplotlib.pyplot import figure\n",
    "\n",
    "figsize = (8, 8)\n",
    "figure(figsize=figsize, dpi=150)\n",
    "\n",
    "n_colors = 10\n",
    "\n",
    "n_neighbors = 40\n",
    "min_dist= 0.5\n",
    "\n",
    "n_components=2\n",
    "\n",
    "metric='euclidean'\n",
    "\n",
    "umap_2d = UMAP(n_components=n_components, n_neighbors=n_neighbors, min_dist=min_dist, init='random', random_state=0)\n",
    "\n",
    "#tsne_features = m.fit_transform(hidden_features)\n",
    "\n",
    "#df['Dimension-1'] = tsne_features[:,0]\n",
    "#df['Dimension-2'] = tsne_features[:,1]\n",
    "\n",
    "proj_2d = umap_2d.fit_transform(hidden_features)\n",
    "\n",
    "df_umap = pd.DataFrame()\n",
    "\n",
    "df_umap[\"comp-1\"] = proj_2d[:,0]\n",
    "df_umap[\"comp-2\"] = proj_2d[:,1]\n",
    "\n",
    "sns.scatterplot(x=\"comp-1\", y=\"comp-2\", hue=test_ST_labels, data=df_umap).set(title=\"UMAP projection\") #palette=sns.color_palette(\"hls\", n_colors)"
   ]
  },
  {
   "cell_type": "code",
   "execution_count": null,
   "id": "c1fb69fe-a1d5-4e60-8f39-16ac67c2cbab",
   "metadata": {},
   "outputs": [],
   "source": []
  },
  {
   "cell_type": "code",
   "execution_count": null,
   "id": "31406053-42fd-4022-9c96-62b39cff3b16",
   "metadata": {},
   "outputs": [],
   "source": []
  },
  {
   "cell_type": "code",
   "execution_count": null,
   "id": "1ae25084-7b41-4b8d-bba6-80e16016f548",
   "metadata": {},
   "outputs": [],
   "source": []
  },
  {
   "cell_type": "code",
   "execution_count": null,
   "id": "e634f56a-ba14-48ff-8278-3fd1e0c41dd6",
   "metadata": {},
   "outputs": [],
   "source": []
  },
  {
   "cell_type": "code",
   "execution_count": null,
   "id": "1376fdf7-51b5-4ef5-971c-34f644bf037f",
   "metadata": {},
   "outputs": [],
   "source": []
  },
  {
   "cell_type": "code",
   "execution_count": null,
   "id": "046fff4e-641a-44ec-81ba-6d792b635698",
   "metadata": {},
   "outputs": [],
   "source": []
  },
  {
   "cell_type": "code",
   "execution_count": null,
   "id": "8b1d653d-8d69-4a7d-810c-08c158d877ce",
   "metadata": {},
   "outputs": [],
   "source": []
  },
  {
   "cell_type": "code",
   "execution_count": null,
   "id": "47862946-2dc2-4629-a47c-9238e27a9cda",
   "metadata": {},
   "outputs": [],
   "source": []
  }
 ],
 "metadata": {
  "kernelspec": {
   "display_name": "Python 3 (ipykernel)",
   "language": "python",
   "name": "python3"
  },
  "language_info": {
   "codemirror_mode": {
    "name": "ipython",
    "version": 3
   },
   "file_extension": ".py",
   "mimetype": "text/x-python",
   "name": "python",
   "nbconvert_exporter": "python",
   "pygments_lexer": "ipython3",
   "version": "3.9.7"
  }
 },
 "nbformat": 4,
 "nbformat_minor": 5
}
