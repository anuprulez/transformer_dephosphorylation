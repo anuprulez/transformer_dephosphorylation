{
 "cells": [
  {
   "cell_type": "code",
   "execution_count": 6,
   "id": "11b6346a-7604-4200-82cd-98ea3511fa54",
   "metadata": {
    "tags": []
   },
   "outputs": [],
   "source": [
    "from keras.models import Model\n",
    "from keras.layers import Concatenate, Dense, LSTM, Input, concatenate\n",
    "\n",
    "import pandas as pd\n",
    "import tqdm\n",
    "import h5py\n",
    "from Bio import SeqIO\n",
    "\n",
    "import numpy as np\n",
    "from sklearn.utils import shuffle\n",
    "from sklearn.model_selection import train_test_split\n",
    "\n",
    "# import keras functions\n",
    "import tensorflow as tf\n",
    "from tensorflow.keras.models import Model, Sequential\n",
    "from tensorflow.keras.layers import Conv1D, Dense, MaxPooling1D, Input, Flatten, LSTM, Dropout, Bidirectional\n",
    "from tensorflow.keras.models import Sequential, load_model\n",
    "from tensorflow.keras.optimizers import Adam\n",
    "from tensorflow.keras.utils import plot_model\n",
    "from tensorflow.keras.losses import BinaryCrossentropy\n",
    "from tensorflow.keras.callbacks import EarlyStopping\n",
    "\n",
    "# performance matrices\n",
    "from sklearn.metrics import confusion_matrix, matthews_corrcoef, accuracy_score\n",
    "\n",
    "# plots\n",
    "import matplotlib.pyplot as plt\n",
    "\n",
    "from tensorflow import keras\n",
    "from keras.models import Sequential\n",
    "from keras.layers import Dense, Dropout, Flatten, Reshape, Lambda, LeakyReLU\n",
    "from keras.layers import Conv2D, MaxPooling2D\n",
    "from keras.callbacks import ModelCheckpoint\n",
    "import numpy as np\n",
    "from Bio import SeqIO\n",
    "from numpy import array\n",
    "from numpy import argmax\n",
    "from sklearn.model_selection import train_test_split\n",
    "from keras.layers.embeddings import Embedding\n",
    "from keras import backend as K\n",
    "from keras.backend import expand_dims\n",
    "import matplotlib.pyplot as plt\n",
    "from keras.regularizers import l1, l2"
   ]
  },
  {
   "cell_type": "code",
   "execution_count": 7,
   "id": "b30c5ed2-7b97-429e-998c-559b9057c2b3",
   "metadata": {
    "tags": []
   },
   "outputs": [],
   "source": [
    "def plot_save(history, filename):\n",
    "    # learning curves of model accuracy\n",
    "    plt.plot(history.history['accuracy'], label='train_acc')\n",
    "    plt.plot(history.history['val_accuracy'], label='val_acc')\n",
    "    plt.plot(history.history['loss'], label='train_loss')\n",
    "    plt.plot(history.history['val_loss'], label='val_loss')\n",
    "    plt.legend()\n",
    "    plt.savefig(filename)\n",
    "    plt.show()\n",
    "    \n",
    "def plot(history):\n",
    "    # learning curves of model accuracy\n",
    "    plt.plot(history.history['accuracy'], label='train_acc')\n",
    "    plt.plot(history.history['val_accuracy'], label='val_acc')\n",
    "    plt.plot(history.history['loss'], label='train_loss')\n",
    "    plt.plot(history.history['val_loss'], label='val_loss')\n",
    "    plt.legend()\n",
    "    plt.show()"
   ]
  },
  {
   "cell_type": "code",
   "execution_count": 67,
   "id": "ffbf7bb3-fb1d-4002-b2a0-e3ccb4b32ea6",
   "metadata": {
    "tags": []
   },
   "outputs": [],
   "source": [
    "def prot_t5_model():\n",
    "    # prot_t5\n",
    "    M1_input = Input(shape=(1024,))\n",
    "    M1_dense_1 = Dense(256)(M1_input)\n",
    "    drop_out = Dropout(0.4)(M1_dense_1)\n",
    "   \n",
    "    M1_dense_2 = Dense(64, activation='relu')(drop_out)\n",
    "    drop_out = Dropout(0.4)(M1_dense_2)\n",
    "    #M1_dense_2 = Dense(128, activation='relu')(drop_out)\n",
    "    #leaky_relu = LeakyReLU(alpha=0.3)(M1_dense_2)\n",
    "    #drop_out = Dropout(0.7)(leaky_relu)\n",
    "    M1_dense_3 = Dense(1, activation = 'sigmoid')(drop_out)\n",
    "    model = Model(inputs=M1_input, outputs=M1_dense_3)\n",
    "    return model"
   ]
  },
  {
   "cell_type": "code",
   "execution_count": 68,
   "id": "d2d340cb-fcf8-482f-95ab-1e698957e361",
   "metadata": {
    "tags": []
   },
   "outputs": [],
   "source": [
    "def read_h5(path):\n",
    "    hf = h5py.File(path, 'r')\n",
    "    mat = np.array(hf[\"embedding\"])\n",
    "    hf.close()\n",
    "    return mat"
   ]
  },
  {
   "cell_type": "code",
   "execution_count": 69,
   "id": "a252f659-422f-4bbf-8cfc-bb460389f377",
   "metadata": {
    "tags": []
   },
   "outputs": [],
   "source": [
    "test_positive_ST_embedding_pos = read_h5(\"../embeddings/test_positive_ST_embedding.h5\")\n",
    "test_negative_ST_embedding_pos = read_h5(\"../embeddings/test_negative_ST_embedding.h5\")"
   ]
  },
  {
   "cell_type": "code",
   "execution_count": 70,
   "id": "fa675c67-500e-4b71-9623-c9167e46667d",
   "metadata": {
    "tags": []
   },
   "outputs": [],
   "source": [
    "test_positive_ST_labels = np.ones(test_positive_ST_embedding_pos.shape[0])\n",
    "test_negative_ST_labels = np.zeros(test_negative_ST_embedding_pos.shape[0])\n",
    "\n",
    "test_ST_labels = np.concatenate((test_positive_ST_labels, test_negative_ST_labels), axis = 0)\n",
    "X_test_full_ST_embedding = np.vstack((test_positive_ST_embedding_pos, test_negative_ST_embedding_pos))"
   ]
  },
  {
   "cell_type": "code",
   "execution_count": 71,
   "id": "3458d324-54ee-4b3b-8f68-1141e7d1a167",
   "metadata": {
    "tags": []
   },
   "outputs": [],
   "source": [
    "train_positive_ST_embedding_pos = read_h5(\"../embeddings/train_positive_ST_embedding.h5\")\n",
    "train_negative_ST_embedding_pos = read_h5(\"../embeddings/train_negative_ST_embedding.h5\")"
   ]
  },
  {
   "cell_type": "code",
   "execution_count": 72,
   "id": "378bbdab-e7bb-431d-af50-fc5f1435704f",
   "metadata": {
    "tags": []
   },
   "outputs": [],
   "source": [
    "train_positive_ST_labels = np.ones(train_positive_ST_embedding_pos.shape[0])\n",
    "train_negative_ST_labels = np.zeros(train_negative_ST_embedding_pos.shape[0])\n",
    "\n",
    "train_ST_labels = np.concatenate((train_positive_ST_labels, train_negative_ST_labels), axis = 0)\n",
    "X_train_full_ST_embedding = np.vstack((train_positive_ST_embedding_pos, train_negative_ST_embedding_pos))"
   ]
  },
  {
   "cell_type": "code",
   "execution_count": 73,
   "id": "49948d7c-96b2-4ab8-b3dd-a03518a705b3",
   "metadata": {
    "tags": []
   },
   "outputs": [
    {
     "data": {
      "text/plain": [
       "((1779, 1024), (1779,), (446, 1024), (446,))"
      ]
     },
     "execution_count": 73,
     "metadata": {},
     "output_type": "execute_result"
    }
   ],
   "source": [
    "X_train_full_ST_embedding.shape, train_ST_labels.shape,  X_test_full_ST_embedding.shape, test_ST_labels.shape"
   ]
  },
  {
   "cell_type": "code",
   "execution_count": 107,
   "id": "6c650049-cfa5-4a47-88a0-4dd370fc898f",
   "metadata": {
    "tags": []
   },
   "outputs": [
    {
     "name": "stdout",
     "output_type": "stream",
     "text": [
      "(222, 33)\n",
      "(224, 33)\n",
      "(890, 33)\n",
      "(889, 33)\n"
     ]
    }
   ],
   "source": [
    "def get_input_for_embedding(fasta_file):\n",
    "    # This is returning just integers to feed to embedding layer\n",
    "    \n",
    "    encodings = []\n",
    "    \n",
    "    # define universe of possible input values\n",
    "    alphabet = 'ARNDCQEGHILKMFPSTWYV-'\n",
    "    \n",
    "    # define a mapping of chars to integers\n",
    "    char_to_int = dict((c, i) for i, c in enumerate(alphabet))\n",
    "    int_to_char = dict((i, c) for i, c in enumerate(alphabet))\n",
    "    \n",
    "    #print(char_to_int)\n",
    "    \n",
    "    for seq_record in SeqIO.parse(fasta_file, \"fasta\"):\n",
    "        data = seq_record.seq\n",
    "        for char in data:\n",
    "            if char not in alphabet:\n",
    "                return\n",
    "        integer_encoded = [char_to_int[char] for char in data]\n",
    "        encodings.append(integer_encoded)\n",
    "    encodings = np.array(encodings)\n",
    "    print(encodings.shape)\n",
    "    return encodings\n",
    "\n",
    "\n",
    "# convert sequences to integer encoding, for embedding\n",
    "test_positive_ST_CNN = get_input_for_embedding('../dataset/test_Pos_ST.fasta')\n",
    "test_negative_ST_CNN = get_input_for_embedding('../dataset/test_Neg_ST.fasta')\n",
    "\n",
    "train_positive_ST_CNN = get_input_for_embedding('../dataset/train_Pos_ST.fasta')\n",
    "train_negative_ST_CNN = get_input_for_embedding('../dataset/train_Neg_ST.fasta')"
   ]
  },
  {
   "cell_type": "code",
   "execution_count": 108,
   "id": "e9660eb8-d6a0-4de9-ac99-b9c42124323c",
   "metadata": {
    "tags": []
   },
   "outputs": [
    {
     "data": {
      "text/plain": [
       "((1779, 33), (446, 33), (1779,), (446,))"
      ]
     },
     "execution_count": 108,
     "metadata": {},
     "output_type": "execute_result"
    }
   ],
   "source": [
    "X_train_CNN = np.vstack((train_positive_ST_CNN, train_negative_ST_CNN))\n",
    "X_test_CNN = np.vstack((test_positive_ST_CNN, test_negative_ST_CNN))\n",
    "X_train_CNN.shape, X_test_CNN.shape, train_ST_labels.shape, test_ST_labels.shape"
   ]
  },
  {
   "cell_type": "code",
   "execution_count": 93,
   "id": "52f4c64d-46dc-4d20-8392-54617ef6598a",
   "metadata": {
    "tags": []
   },
   "outputs": [
    {
     "ename": "TypeError",
     "evalue": "only size-1 arrays can be converted to Python scalars",
     "output_type": "error",
     "traceback": [
      "\u001b[0;31m---------------------------------------------------------------------------\u001b[0m",
      "\u001b[0;31mTypeError\u001b[0m                                 Traceback (most recent call last)",
      "Cell \u001b[0;32mIn[93], line 1\u001b[0m\n\u001b[0;32m----> 1\u001b[0m X_train_CNN \u001b[38;5;241m=\u001b[39m \u001b[38;5;28;43mfloat\u001b[39;49m\u001b[43m(\u001b[49m\u001b[43mX_train_CNN\u001b[49m\u001b[43m)\u001b[49m\n",
      "\u001b[0;31mTypeError\u001b[0m: only size-1 arrays can be converted to Python scalars"
     ]
    }
   ],
   "source": []
  },
  {
   "cell_type": "code",
   "execution_count": 117,
   "id": "8a352587-5e45-428e-9adb-5c3372cc328f",
   "metadata": {
    "tags": []
   },
   "outputs": [
    {
     "data": {
      "text/plain": [
       "\"def CNN_model():\\n    model = Sequential()\\n    model.add(Embedding(256, 33, input_length=33))\\n    model.add(Lambda(lambda x: K.expand_dims(x, 4)))\\n    model.add(Conv2D(64, kernel_size=(17, 3), activation = 'relu', kernel_initializer='he_normal', padding = 'VALID'))\\n    model.add(Dropout(0.6))\\n    model.add(Conv2D(128, (3, 3), activation = 'relu', kernel_initializer='he_normal', padding = 'SAME'))\\n    model.add(Dropout(0.6))\\n    model.add(MaxPooling2D(pool_size=(2, 2)))\\n    model.add(Flatten())\\n    model.add(Dense(768, activation='relu', kernel_initializer='he_normal'))\\n    model.add(Dropout(0.5))\\n    model.add(Dense(256, activation='relu', kernel_initializer='he_normal'))\\n    model.add(Dropout(0.5))\\n    model.add(Dense(1, activation='sigmoid'))\\n    return model\""
      ]
     },
     "execution_count": 117,
     "metadata": {},
     "output_type": "execute_result"
    }
   ],
   "source": [
    "from tensorflow.keras import backend as K\n",
    "\n",
    "def CNN_model():\n",
    "    model = Sequential()\n",
    "    model.add(Embedding(256, 21, input_length=33))\n",
    "    model.add(Lambda(lambda x: tf.expand_dims(x, 3)))\n",
    "    model.add(Conv2D(32, kernel_size=(17, 3), activation = 'relu', kernel_initializer='he_normal', padding = 'VALID'))\n",
    "    model.add(Dropout(0.2))\n",
    "    model.add(MaxPooling2D(pool_size=(2, 2)))\n",
    "    model.add(Flatten())\n",
    "    model.add(Dense(16, activation='relu', kernel_initializer='he_normal'))\n",
    "    model.add(Dropout(0.2))\n",
    "    model.add(Dense(1, activation='sigmoid'))\n",
    "    return model\n",
    "\n",
    "'''def CNN_model():\n",
    "    model = Sequential()\n",
    "    model.add(Embedding(256, 33, input_length=33))\n",
    "    model.add(Lambda(lambda x: K.expand_dims(x, 4)))\n",
    "    model.add(Conv2D(64, kernel_size=(17, 3), activation = 'relu', kernel_initializer='he_normal', padding = 'VALID'))\n",
    "    model.add(Dropout(0.6))\n",
    "    model.add(Conv2D(128, (3, 3), activation = 'relu', kernel_initializer='he_normal', padding = 'SAME'))\n",
    "    model.add(Dropout(0.6))\n",
    "    model.add(MaxPooling2D(pool_size=(2, 2)))\n",
    "    model.add(Flatten())\n",
    "    model.add(Dense(768, activation='relu', kernel_initializer='he_normal'))\n",
    "    model.add(Dropout(0.5))\n",
    "    model.add(Dense(256, activation='relu', kernel_initializer='he_normal'))\n",
    "    model.add(Dropout(0.5))\n",
    "    model.add(Dense(1, activation='sigmoid'))\n",
    "    return model'''"
   ]
  },
  {
   "cell_type": "code",
   "execution_count": 118,
   "id": "a955b64c-1738-4849-8257-c7fb24805b79",
   "metadata": {
    "tags": []
   },
   "outputs": [
    {
     "name": "stdout",
     "output_type": "stream",
     "text": [
      "Model: \"sequential_16\"\n",
      "_________________________________________________________________\n",
      " Layer (type)                Output Shape              Param #   \n",
      "=================================================================\n",
      " embedding_15 (Embedding)    (None, 33, 21)            5376      \n",
      "                                                                 \n",
      " lambda_13 (Lambda)          (None, 33, 21, 1)         0         \n",
      "                                                                 \n",
      " conv2d_2 (Conv2D)           (None, 17, 19, 32)        1664      \n",
      "                                                                 \n",
      " dropout_40 (Dropout)        (None, 17, 19, 32)        0         \n",
      "                                                                 \n",
      " max_pooling2d (MaxPooling2D  (None, 8, 9, 32)         0         \n",
      " )                                                               \n",
      "                                                                 \n",
      " flatten (Flatten)           (None, 2304)              0         \n",
      "                                                                 \n",
      " dense_93 (Dense)            (None, 16)                36880     \n",
      "                                                                 \n",
      " dropout_41 (Dropout)        (None, 16)                0         \n",
      "                                                                 \n",
      " dense_94 (Dense)            (None, 1)                 17        \n",
      "                                                                 \n",
      "=================================================================\n",
      "Total params: 43,937\n",
      "Trainable params: 43,937\n",
      "Non-trainable params: 0\n",
      "_________________________________________________________________\n",
      "Training CNN model...\n",
      "Epoch 1/10\n"
     ]
    },
    {
     "name": "stderr",
     "output_type": "stream",
     "text": [
      "2023-05-05 16:42:03.914923: I tensorflow/stream_executor/cuda/cuda_dnn.cc:368] Loaded cuDNN version 8600\n",
      "2023-05-05 16:42:10.997608: I tensorflow/core/platform/default/subprocess.cc:304] Start cannot spawn child process: No such file or directory\n"
     ]
    },
    {
     "name": "stdout",
     "output_type": "stream",
     "text": [
      "7/7 [==============================] - 14s 163ms/step - loss: 0.6929 - accuracy: 0.5143 - val_loss: 0.6892 - val_accuracy: 0.5359\n",
      "Epoch 2/10\n",
      "7/7 [==============================] - 0s 62ms/step - loss: 0.6839 - accuracy: 0.5621 - val_loss: 0.6844 - val_accuracy: 0.5112\n",
      "Epoch 3/10\n",
      "7/7 [==============================] - 0s 55ms/step - loss: 0.6750 - accuracy: 0.5677 - val_loss: 0.6722 - val_accuracy: 0.6166\n",
      "Epoch 4/10\n",
      "7/7 [==============================] - 0s 55ms/step - loss: 0.6592 - accuracy: 0.6228 - val_loss: 0.6572 - val_accuracy: 0.6883\n",
      "Epoch 5/10\n",
      "7/7 [==============================] - 0s 55ms/step - loss: 0.6393 - accuracy: 0.6914 - val_loss: 0.6360 - val_accuracy: 0.7085\n",
      "Epoch 6/10\n",
      "7/7 [==============================] - 0s 43ms/step - loss: 0.6125 - accuracy: 0.7032 - val_loss: 0.6094 - val_accuracy: 0.7220\n",
      "Epoch 7/10\n",
      "7/7 [==============================] - 0s 57ms/step - loss: 0.5856 - accuracy: 0.7251 - val_loss: 0.5813 - val_accuracy: 0.7309\n",
      "Epoch 8/10\n",
      "7/7 [==============================] - 0s 54ms/step - loss: 0.5665 - accuracy: 0.7229 - val_loss: 0.5626 - val_accuracy: 0.7399\n",
      "Epoch 9/10\n",
      "7/7 [==============================] - 0s 67ms/step - loss: 0.5471 - accuracy: 0.7459 - val_loss: 0.5475 - val_accuracy: 0.7399\n",
      "Epoch 10/10\n",
      "7/7 [==============================] - 0s 46ms/step - loss: 0.5324 - accuracy: 0.7375 - val_loss: 0.5323 - val_accuracy: 0.7489\n"
     ]
    },
    {
     "data": {
      "image/png": "[encoded data removed]",
      "text/plain": [
       "<Figure size 640x480 with 1 Axes>"
      ]
     },
     "metadata": {},
     "output_type": "display_data"
    },
    {
     "name": "stdout",
     "output_type": "stream",
     "text": [
      "\n",
      " Acc: 0.8161434977578476, MCC: 0.6324642617231876, SN:0.8018018018018018, SP:0.8303571428571429, \n",
      " CM:[[186  38]\n",
      " [ 44 178]]\n",
      "Training Embedding model...\n",
      "Epoch 1/10\n",
      "7/7 [==============================] - 2s 130ms/step - loss: 0.6084 - accuracy: 0.6549 - val_loss: 0.5052 - val_accuracy: 0.7691\n",
      "Epoch 2/10\n",
      "7/7 [==============================] - 0s 59ms/step - loss: 0.5323 - accuracy: 0.7431 - val_loss: 0.4816 - val_accuracy: 0.7848\n",
      "Epoch 3/10\n",
      "7/7 [==============================] - 0s 49ms/step - loss: 0.4959 - accuracy: 0.7729 - val_loss: 0.4803 - val_accuracy: 0.7937\n",
      "Epoch 4/10\n",
      "7/7 [==============================] - 0s 62ms/step - loss: 0.4852 - accuracy: 0.7870 - val_loss: 0.4690 - val_accuracy: 0.7982\n",
      "Epoch 5/10\n",
      "7/7 [==============================] - 0s 44ms/step - loss: 0.4546 - accuracy: 0.7864 - val_loss: 0.4598 - val_accuracy: 0.8161\n",
      "Epoch 6/10\n",
      "7/7 [==============================] - 0s 24ms/step - loss: 0.4328 - accuracy: 0.7999 - val_loss: 0.4566 - val_accuracy: 0.8117\n",
      "Epoch 7/10\n",
      "7/7 [==============================] - 0s 42ms/step - loss: 0.4277 - accuracy: 0.8089 - val_loss: 0.4557 - val_accuracy: 0.8161\n",
      "Epoch 8/10\n",
      "7/7 [==============================] - 0s 52ms/step - loss: 0.4088 - accuracy: 0.8162 - val_loss: 0.4604 - val_accuracy: 0.8004\n",
      "Epoch 9/10\n",
      "7/7 [==============================] - 0s 50ms/step - loss: 0.3895 - accuracy: 0.8291 - val_loss: 0.4705 - val_accuracy: 0.8117\n",
      "Epoch 10/10\n",
      "7/7 [==============================] - 0s 52ms/step - loss: 0.3811 - accuracy: 0.8297 - val_loss: 0.4653 - val_accuracy: 0.8049\n"
     ]
    },
    {
     "data": {
      "image/png": "[encoded data removed]",
      "text/plain": [
       "<Figure size 640x480 with 1 Axes>"
      ]
     },
     "metadata": {},
     "output_type": "display_data"
    },
    {
     "name": "stdout",
     "output_type": "stream",
     "text": [
      "\n",
      " Acc: 0.804932735426009, MCC: 0.6104254040815124, SN:0.8243243243243243, SP:0.7857142857142857, \n",
      " CM:[[176  48]\n",
      " [ 39 183]]\n"
     ]
    }
   ],
   "source": [
    "\n",
    "iteration = 1\n",
    "n_epo = 10\n",
    "\n",
    "model_A = CNN_model()\n",
    "model_A.compile(optimizer=Adam(learning_rate=1e-3),\n",
    "          loss=BinaryCrossentropy(),\n",
    "          metrics=['accuracy'])\n",
    "\n",
    "model_A.summary()\n",
    "\n",
    "print(\"Training CNN model...\")\n",
    "\n",
    "metric = 'val_accuracy'\n",
    "\n",
    "#early_stopping = tf.keras.callbacks.EarlyStopping(monitor='val_accuracy',patience=7,mode='auto')\n",
    "\n",
    "history_A = model_A.fit(X_train_CNN, train_ST_labels, batch_size=256, epochs=n_epo, verbose=1,callbacks=[],\n",
    "    validation_data=(X_test_CNN, test_ST_labels))\n",
    "\n",
    "# Save model\n",
    "#model_A.save('../models/cv_new/model_A_'+str(iteration)+'.h5')\n",
    "model_A.save_weights('../models/model_A.h5')\n",
    "\n",
    "y_pred = model_B.predict(X_test_full_ST_embedding).reshape(test_ST_labels.shape[0],)\n",
    "y_pred = (y_pred > 0.5)\n",
    "y_pred = [int(i) for i in y_pred]\n",
    "test_ST_labels = np.array(test_ST_labels)\n",
    "y_pred = np.array(y_pred)\n",
    "\n",
    "cm = confusion_matrix(test_ST_labels, y_pred)\n",
    "mcc = matthews_corrcoef(test_ST_labels, y_pred)\n",
    "acc = accuracy_score(test_ST_labels, y_pred)\n",
    "\n",
    "sn = cm[1][1]/(cm[1][1]+cm[1][0])\n",
    "sp = cm[0][0]/(cm[0][0]+cm[0][1])\n",
    "\n",
    "#save plot\n",
    "plot(history_A)\n",
    "print(\"\\n Acc: %s, MCC: %s, SN:%s, SP:%s, \\n CM:%s\" %(str(acc), str(mcc), str(sn), str(sp), cm))\n",
    "\n",
    "\n",
    "########### Model B\n",
    "\n",
    "print(\"Training Embedding model...\")\n",
    "\n",
    "model_B = prot_t5_model()\n",
    "model_B.compile(optimizer=Adam(learning_rate=1e-3), loss=BinaryCrossentropy(), metrics=['accuracy'])\n",
    "\n",
    "early_stopping = tf.keras.callbacks.EarlyStopping(monitor='val_accuracy',patience=3,mode='auto')\n",
    "\n",
    "metric = 'val_accuracy'\n",
    "\n",
    "history_B = model_B.fit(X_train_full_ST_embedding, train_ST_labels, batch_size=256, epochs=n_epo, verbose=1, callbacks=[], \n",
    "                        validation_data=(X_test_full_ST_embedding, test_ST_labels))\n",
    "\n",
    "model_B.save_weights('../models/model_B.h5')\n",
    "\n",
    "y_pred = model_B.predict(X_test_full_ST_embedding).reshape(test_ST_labels.shape[0],)\n",
    "y_pred = (y_pred > 0.5)\n",
    "y_pred = [int(i) for i in y_pred]\n",
    "test_ST_labels = np.array(test_ST_labels)\n",
    "y_pred = np.array(y_pred)\n",
    "\n",
    "cm = confusion_matrix(test_ST_labels, y_pred)\n",
    "mcc = matthews_corrcoef(test_ST_labels, y_pred)\n",
    "acc = accuracy_score(test_ST_labels, y_pred)\n",
    "\n",
    "sn = cm[1][1]/(cm[1][1]+cm[1][0])\n",
    "sp = cm[0][0]/(cm[0][0]+cm[0][1])\n",
    "\n",
    "plot(history_B)\n",
    "print(\"\\n Acc: %s, MCC: %s, SN:%s, SP:%s, \\n CM:%s\" %(str(acc), str(mcc), str(sn), str(sp), cm))"
   ]
  },
  {
   "cell_type": "code",
   "execution_count": null,
   "id": "01f949e4-c1c8-4b3b-9c66-8a9462224908",
   "metadata": {},
   "outputs": [],
   "source": []
  },
  {
   "cell_type": "code",
   "execution_count": null,
   "id": "fc82462c-5213-4f4c-9f6b-fa8a6746634a",
   "metadata": {},
   "outputs": [],
   "source": []
  },
  {
   "cell_type": "code",
   "execution_count": null,
   "id": "699ccbca-3ecd-4f03-9bd7-38b4fe71839d",
   "metadata": {},
   "outputs": [],
   "source": []
  },
  {
   "cell_type": "code",
   "execution_count": null,
   "id": "99ef6237-6230-4c7b-8857-0f122fe4d39d",
   "metadata": {},
   "outputs": [],
   "source": []
  },
  {
   "cell_type": "code",
   "execution_count": null,
   "id": "db90f5e9-9279-4b47-85bc-772da02d750a",
   "metadata": {},
   "outputs": [],
   "source": []
  },
  {
   "cell_type": "code",
   "execution_count": null,
   "id": "c1fb69fe-a1d5-4e60-8f39-16ac67c2cbab",
   "metadata": {},
   "outputs": [],
   "source": []
  },
  {
   "cell_type": "code",
   "execution_count": null,
   "id": "31406053-42fd-4022-9c96-62b39cff3b16",
   "metadata": {},
   "outputs": [],
   "source": []
  },
  {
   "cell_type": "code",
   "execution_count": null,
   "id": "1ae25084-7b41-4b8d-bba6-80e16016f548",
   "metadata": {},
   "outputs": [],
   "source": []
  },
  {
   "cell_type": "code",
   "execution_count": null,
   "id": "e634f56a-ba14-48ff-8278-3fd1e0c41dd6",
   "metadata": {},
   "outputs": [],
   "source": []
  },
  {
   "cell_type": "code",
   "execution_count": null,
   "id": "1376fdf7-51b5-4ef5-971c-34f644bf037f",
   "metadata": {},
   "outputs": [],
   "source": []
  },
  {
   "cell_type": "code",
   "execution_count": null,
   "id": "046fff4e-641a-44ec-81ba-6d792b635698",
   "metadata": {},
   "outputs": [],
   "source": []
  },
  {
   "cell_type": "code",
   "execution_count": null,
   "id": "8b1d653d-8d69-4a7d-810c-08c158d877ce",
   "metadata": {},
   "outputs": [],
   "source": []
  },
  {
   "cell_type": "code",
   "execution_count": null,
   "id": "47862946-2dc2-4629-a47c-9238e27a9cda",
   "metadata": {},
   "outputs": [],
   "source": []
  }
 ],
 "metadata": {
  "kernelspec": {
   "display_name": "Python 3 (ipykernel)",
   "language": "python",
   "name": "python3"
  },
  "language_info": {
   "codemirror_mode": {
    "name": "ipython",
    "version": 3
   },
   "file_extension": ".py",
   "mimetype": "text/x-python",
   "name": "python",
   "nbconvert_exporter": "python",
   "pygments_lexer": "ipython3",
   "version": "3.9.7"
  }
 },
 "nbformat": 4,
 "nbformat_minor": 5
}
